{
 "cells": [
  {
   "cell_type": "code",
   "execution_count": 2,
   "id": "e59bf80b",
   "metadata": {},
   "outputs": [],
   "source": [
    "import pandas as pd\n",
    "import numpy as np\n",
    "import seaborn as sns\n",
    "import matplotlib.pyplot as plt\n",
    "from sklearn.feature_selection import SelectKBest\n",
    "from sklearn.feature_selection import f_classif\n"
   ]
  },
  {
   "cell_type": "code",
   "execution_count": 3,
   "id": "d5b734e9",
   "metadata": {},
   "outputs": [],
   "source": [
    "df= pd.read_csv('train.xlsx - Sheet1.csv')"
   ]
  },
  {
   "cell_type": "markdown",
   "id": "ff5914a0",
   "metadata": {},
   "source": [
    "# Understanding data"
   ]
  },
  {
   "cell_type": "code",
   "execution_count": 4,
   "id": "67e50b80",
   "metadata": {},
   "outputs": [
    {
     "data": {
      "text/html": [
       "<div>\n",
       "<style scoped>\n",
       "    .dataframe tbody tr th:only-of-type {\n",
       "        vertical-align: middle;\n",
       "    }\n",
       "\n",
       "    .dataframe tbody tr th {\n",
       "        vertical-align: top;\n",
       "    }\n",
       "\n",
       "    .dataframe thead th {\n",
       "        text-align: right;\n",
       "    }\n",
       "</style>\n",
       "<table border=\"1\" class=\"dataframe\">\n",
       "  <thead>\n",
       "    <tr style=\"text-align: right;\">\n",
       "      <th></th>\n",
       "      <th>age</th>\n",
       "      <th>job</th>\n",
       "      <th>marital</th>\n",
       "      <th>education</th>\n",
       "      <th>default</th>\n",
       "      <th>balance</th>\n",
       "      <th>housing</th>\n",
       "      <th>loan</th>\n",
       "      <th>contact</th>\n",
       "      <th>day</th>\n",
       "      <th>month</th>\n",
       "      <th>duration</th>\n",
       "      <th>campaign</th>\n",
       "      <th>pdays</th>\n",
       "      <th>previous</th>\n",
       "      <th>poutcome</th>\n",
       "      <th>y</th>\n",
       "    </tr>\n",
       "  </thead>\n",
       "  <tbody>\n",
       "    <tr>\n",
       "      <th>0</th>\n",
       "      <td>58</td>\n",
       "      <td>management</td>\n",
       "      <td>married</td>\n",
       "      <td>tertiary</td>\n",
       "      <td>no</td>\n",
       "      <td>2143</td>\n",
       "      <td>yes</td>\n",
       "      <td>no</td>\n",
       "      <td>unknown</td>\n",
       "      <td>5</td>\n",
       "      <td>may</td>\n",
       "      <td>261</td>\n",
       "      <td>1</td>\n",
       "      <td>-1</td>\n",
       "      <td>0</td>\n",
       "      <td>unknown</td>\n",
       "      <td>no</td>\n",
       "    </tr>\n",
       "    <tr>\n",
       "      <th>1</th>\n",
       "      <td>44</td>\n",
       "      <td>technician</td>\n",
       "      <td>single</td>\n",
       "      <td>secondary</td>\n",
       "      <td>no</td>\n",
       "      <td>29</td>\n",
       "      <td>yes</td>\n",
       "      <td>no</td>\n",
       "      <td>unknown</td>\n",
       "      <td>5</td>\n",
       "      <td>may</td>\n",
       "      <td>151</td>\n",
       "      <td>1</td>\n",
       "      <td>-1</td>\n",
       "      <td>0</td>\n",
       "      <td>unknown</td>\n",
       "      <td>no</td>\n",
       "    </tr>\n",
       "    <tr>\n",
       "      <th>2</th>\n",
       "      <td>33</td>\n",
       "      <td>entrepreneur</td>\n",
       "      <td>married</td>\n",
       "      <td>secondary</td>\n",
       "      <td>no</td>\n",
       "      <td>2</td>\n",
       "      <td>yes</td>\n",
       "      <td>yes</td>\n",
       "      <td>unknown</td>\n",
       "      <td>5</td>\n",
       "      <td>may</td>\n",
       "      <td>76</td>\n",
       "      <td>1</td>\n",
       "      <td>-1</td>\n",
       "      <td>0</td>\n",
       "      <td>unknown</td>\n",
       "      <td>no</td>\n",
       "    </tr>\n",
       "    <tr>\n",
       "      <th>3</th>\n",
       "      <td>47</td>\n",
       "      <td>blue-collar</td>\n",
       "      <td>married</td>\n",
       "      <td>unknown</td>\n",
       "      <td>no</td>\n",
       "      <td>1506</td>\n",
       "      <td>yes</td>\n",
       "      <td>no</td>\n",
       "      <td>unknown</td>\n",
       "      <td>5</td>\n",
       "      <td>may</td>\n",
       "      <td>92</td>\n",
       "      <td>1</td>\n",
       "      <td>-1</td>\n",
       "      <td>0</td>\n",
       "      <td>unknown</td>\n",
       "      <td>no</td>\n",
       "    </tr>\n",
       "    <tr>\n",
       "      <th>4</th>\n",
       "      <td>33</td>\n",
       "      <td>unknown</td>\n",
       "      <td>single</td>\n",
       "      <td>unknown</td>\n",
       "      <td>no</td>\n",
       "      <td>1</td>\n",
       "      <td>no</td>\n",
       "      <td>no</td>\n",
       "      <td>unknown</td>\n",
       "      <td>5</td>\n",
       "      <td>may</td>\n",
       "      <td>198</td>\n",
       "      <td>1</td>\n",
       "      <td>-1</td>\n",
       "      <td>0</td>\n",
       "      <td>unknown</td>\n",
       "      <td>no</td>\n",
       "    </tr>\n",
       "  </tbody>\n",
       "</table>\n",
       "</div>"
      ],
      "text/plain": [
       "   age           job  marital  education default  balance housing loan  \\\n",
       "0   58    management  married   tertiary      no     2143     yes   no   \n",
       "1   44    technician   single  secondary      no       29     yes   no   \n",
       "2   33  entrepreneur  married  secondary      no        2     yes  yes   \n",
       "3   47   blue-collar  married    unknown      no     1506     yes   no   \n",
       "4   33       unknown   single    unknown      no        1      no   no   \n",
       "\n",
       "   contact  day month  duration  campaign  pdays  previous poutcome   y  \n",
       "0  unknown    5   may       261         1     -1         0  unknown  no  \n",
       "1  unknown    5   may       151         1     -1         0  unknown  no  \n",
       "2  unknown    5   may        76         1     -1         0  unknown  no  \n",
       "3  unknown    5   may        92         1     -1         0  unknown  no  \n",
       "4  unknown    5   may       198         1     -1         0  unknown  no  "
      ]
     },
     "execution_count": 4,
     "metadata": {},
     "output_type": "execute_result"
    }
   ],
   "source": [
    "df.head()"
   ]
  },
  {
   "cell_type": "code",
   "execution_count": 5,
   "id": "7999dbef",
   "metadata": {},
   "outputs": [
    {
     "data": {
      "text/plain": [
       "(45211, 17)"
      ]
     },
     "execution_count": 5,
     "metadata": {},
     "output_type": "execute_result"
    }
   ],
   "source": [
    "df.shape"
   ]
  },
  {
   "cell_type": "code",
   "execution_count": 6,
   "id": "97f474dd",
   "metadata": {},
   "outputs": [
    {
     "data": {
      "text/plain": [
       "Index(['age', 'job', 'marital', 'education', 'default', 'balance', 'housing',\n",
       "       'loan', 'contact', 'day', 'month', 'duration', 'campaign', 'pdays',\n",
       "       'previous', 'poutcome', 'y'],\n",
       "      dtype='object')"
      ]
     },
     "execution_count": 6,
     "metadata": {},
     "output_type": "execute_result"
    }
   ],
   "source": [
    "df.columns"
   ]
  },
  {
   "cell_type": "code",
   "execution_count": 7,
   "id": "adcf68aa",
   "metadata": {},
   "outputs": [
    {
     "data": {
      "text/plain": [
       "age          0\n",
       "job          0\n",
       "marital      0\n",
       "education    0\n",
       "default      0\n",
       "balance      0\n",
       "housing      0\n",
       "loan         0\n",
       "contact      0\n",
       "day          0\n",
       "month        0\n",
       "duration     0\n",
       "campaign     0\n",
       "pdays        0\n",
       "previous     0\n",
       "poutcome     0\n",
       "y            0\n",
       "dtype: int64"
      ]
     },
     "execution_count": 7,
     "metadata": {},
     "output_type": "execute_result"
    }
   ],
   "source": [
    "df.isnull().sum()"
   ]
  },
  {
   "cell_type": "code",
   "execution_count": 8,
   "id": "3b7e9f75",
   "metadata": {},
   "outputs": [
    {
     "data": {
      "text/html": [
       "<div>\n",
       "<style scoped>\n",
       "    .dataframe tbody tr th:only-of-type {\n",
       "        vertical-align: middle;\n",
       "    }\n",
       "\n",
       "    .dataframe tbody tr th {\n",
       "        vertical-align: top;\n",
       "    }\n",
       "\n",
       "    .dataframe thead th {\n",
       "        text-align: right;\n",
       "    }\n",
       "</style>\n",
       "<table border=\"1\" class=\"dataframe\">\n",
       "  <thead>\n",
       "    <tr style=\"text-align: right;\">\n",
       "      <th></th>\n",
       "      <th>age</th>\n",
       "      <th>balance</th>\n",
       "      <th>day</th>\n",
       "      <th>duration</th>\n",
       "      <th>campaign</th>\n",
       "      <th>pdays</th>\n",
       "      <th>previous</th>\n",
       "    </tr>\n",
       "  </thead>\n",
       "  <tbody>\n",
       "    <tr>\n",
       "      <th>count</th>\n",
       "      <td>45211.000000</td>\n",
       "      <td>45211.000000</td>\n",
       "      <td>45211.000000</td>\n",
       "      <td>45211.000000</td>\n",
       "      <td>45211.000000</td>\n",
       "      <td>45211.000000</td>\n",
       "      <td>45211.000000</td>\n",
       "    </tr>\n",
       "    <tr>\n",
       "      <th>mean</th>\n",
       "      <td>40.936210</td>\n",
       "      <td>1362.272058</td>\n",
       "      <td>15.806419</td>\n",
       "      <td>258.163080</td>\n",
       "      <td>2.763841</td>\n",
       "      <td>40.197828</td>\n",
       "      <td>0.580323</td>\n",
       "    </tr>\n",
       "    <tr>\n",
       "      <th>std</th>\n",
       "      <td>10.618762</td>\n",
       "      <td>3044.765829</td>\n",
       "      <td>8.322476</td>\n",
       "      <td>257.527812</td>\n",
       "      <td>3.098021</td>\n",
       "      <td>100.128746</td>\n",
       "      <td>2.303441</td>\n",
       "    </tr>\n",
       "    <tr>\n",
       "      <th>min</th>\n",
       "      <td>18.000000</td>\n",
       "      <td>-8019.000000</td>\n",
       "      <td>1.000000</td>\n",
       "      <td>0.000000</td>\n",
       "      <td>1.000000</td>\n",
       "      <td>-1.000000</td>\n",
       "      <td>0.000000</td>\n",
       "    </tr>\n",
       "    <tr>\n",
       "      <th>25%</th>\n",
       "      <td>33.000000</td>\n",
       "      <td>72.000000</td>\n",
       "      <td>8.000000</td>\n",
       "      <td>103.000000</td>\n",
       "      <td>1.000000</td>\n",
       "      <td>-1.000000</td>\n",
       "      <td>0.000000</td>\n",
       "    </tr>\n",
       "    <tr>\n",
       "      <th>50%</th>\n",
       "      <td>39.000000</td>\n",
       "      <td>448.000000</td>\n",
       "      <td>16.000000</td>\n",
       "      <td>180.000000</td>\n",
       "      <td>2.000000</td>\n",
       "      <td>-1.000000</td>\n",
       "      <td>0.000000</td>\n",
       "    </tr>\n",
       "    <tr>\n",
       "      <th>75%</th>\n",
       "      <td>48.000000</td>\n",
       "      <td>1428.000000</td>\n",
       "      <td>21.000000</td>\n",
       "      <td>319.000000</td>\n",
       "      <td>3.000000</td>\n",
       "      <td>-1.000000</td>\n",
       "      <td>0.000000</td>\n",
       "    </tr>\n",
       "    <tr>\n",
       "      <th>max</th>\n",
       "      <td>95.000000</td>\n",
       "      <td>102127.000000</td>\n",
       "      <td>31.000000</td>\n",
       "      <td>4918.000000</td>\n",
       "      <td>63.000000</td>\n",
       "      <td>871.000000</td>\n",
       "      <td>275.000000</td>\n",
       "    </tr>\n",
       "  </tbody>\n",
       "</table>\n",
       "</div>"
      ],
      "text/plain": [
       "                age        balance           day      duration      campaign  \\\n",
       "count  45211.000000   45211.000000  45211.000000  45211.000000  45211.000000   \n",
       "mean      40.936210    1362.272058     15.806419    258.163080      2.763841   \n",
       "std       10.618762    3044.765829      8.322476    257.527812      3.098021   \n",
       "min       18.000000   -8019.000000      1.000000      0.000000      1.000000   \n",
       "25%       33.000000      72.000000      8.000000    103.000000      1.000000   \n",
       "50%       39.000000     448.000000     16.000000    180.000000      2.000000   \n",
       "75%       48.000000    1428.000000     21.000000    319.000000      3.000000   \n",
       "max       95.000000  102127.000000     31.000000   4918.000000     63.000000   \n",
       "\n",
       "              pdays      previous  \n",
       "count  45211.000000  45211.000000  \n",
       "mean      40.197828      0.580323  \n",
       "std      100.128746      2.303441  \n",
       "min       -1.000000      0.000000  \n",
       "25%       -1.000000      0.000000  \n",
       "50%       -1.000000      0.000000  \n",
       "75%       -1.000000      0.000000  \n",
       "max      871.000000    275.000000  "
      ]
     },
     "execution_count": 8,
     "metadata": {},
     "output_type": "execute_result"
    }
   ],
   "source": [
    "df.describe()"
   ]
  },
  {
   "cell_type": "markdown",
   "id": "ae5ac1e5",
   "metadata": {},
   "source": [
    "# Data Cleaning"
   ]
  },
  {
   "cell_type": "code",
   "execution_count": 9,
   "id": "f2f73c8e",
   "metadata": {},
   "outputs": [
    {
     "data": {
      "text/plain": [
       "Index(['age', 'job', 'marital', 'education', 'default', 'balance', 'housing',\n",
       "       'loan', 'contact', 'day', 'month', 'duration', 'campaign', 'pdays',\n",
       "       'previous', 'poutcome'],\n",
       "      dtype='object')"
      ]
     },
     "execution_count": 9,
     "metadata": {},
     "output_type": "execute_result"
    }
   ],
   "source": [
    "X= df.iloc[:,:16]\n",
    "y= df.iloc[:,16:]\n",
    "X.columns"
   ]
  },
  {
   "cell_type": "markdown",
   "id": "a3eaff9c",
   "metadata": {},
   "source": [
    "# Age"
   ]
  },
  {
   "cell_type": "code",
   "execution_count": 10,
   "id": "d291da56",
   "metadata": {},
   "outputs": [
    {
     "data": {
      "text/plain": [
       "<AxesSubplot:xlabel='age'>"
      ]
     },
     "execution_count": 10,
     "metadata": {},
     "output_type": "execute_result"
    },
    {
     "data": {
      "image/png": "[encoded data removed]",
      "text/plain": [
       "<Figure size 432x288 with 1 Axes>"
      ]
     },
     "metadata": {
      "needs_background": "light"
     },
     "output_type": "display_data"
    }
   ],
   "source": [
    "# outlier detection\n",
    "\n",
    "sns.boxplot(x=X['age'])\n"
   ]
  },
  {
   "cell_type": "code",
   "execution_count": 11,
   "id": "d46e45fb",
   "metadata": {},
   "outputs": [],
   "source": [
    "# replacing the outliers with 1st and 99th percentile."
   ]
  },
  {
   "cell_type": "code",
   "execution_count": 12,
   "id": "411b12b1",
   "metadata": {},
   "outputs": [],
   "source": [
    "def outlier(X, col_name):\n",
    "    p_01 = X[col_name].quantile(0.01)\n",
    "    p_99 = X[col_name].quantile(0.99)\n",
    "    X[col_name].clip(p_01, p_99, inplace=True)\n",
    "\n",
    "    return X.shape\n"
   ]
  },
  {
   "cell_type": "code",
   "execution_count": 13,
   "id": "2a7f2814",
   "metadata": {},
   "outputs": [
    {
     "data": {
      "text/plain": [
       "(45211, 16)"
      ]
     },
     "execution_count": 13,
     "metadata": {},
     "output_type": "execute_result"
    }
   ],
   "source": [
    "outlier(X, 'age')"
   ]
  },
  {
   "cell_type": "code",
   "execution_count": 14,
   "id": "8db779c7",
   "metadata": {},
   "outputs": [
    {
     "data": {
      "text/plain": [
       "<AxesSubplot:xlabel='age'>"
      ]
     },
     "execution_count": 14,
     "metadata": {},
     "output_type": "execute_result"
    },
    {
     "data": {
      "image/png": "[encoded data removed]",
      "text/plain": [
       "<Figure size 432x288 with 1 Axes>"
      ]
     },
     "metadata": {
      "needs_background": "light"
     },
     "output_type": "display_data"
    }
   ],
   "source": [
    "sns.boxplot(x=X['age'])\n"
   ]
  },
  {
   "cell_type": "markdown",
   "id": "92175149",
   "metadata": {},
   "source": [
    "# job"
   ]
  },
  {
   "cell_type": "code",
   "execution_count": 15,
   "id": "b02361da",
   "metadata": {},
   "outputs": [
    {
     "data": {
      "text/plain": [
       "blue-collar      21.525735\n",
       "management       20.919688\n",
       "technician       16.803433\n",
       "admin.           11.437482\n",
       "services          9.188029\n",
       "retired           5.007631\n",
       "self-employed     3.492513\n",
       "entrepreneur      3.289023\n",
       "unemployed        2.882042\n",
       "housemaid         2.742695\n",
       "student           2.074716\n",
       "unknown           0.637013\n",
       "Name: job, dtype: float64"
      ]
     },
     "execution_count": 15,
     "metadata": {},
     "output_type": "execute_result"
    }
   ],
   "source": [
    "(X['job'].value_counts()/len(X['job']))*100"
   ]
  },
  {
   "cell_type": "code",
   "execution_count": 16,
   "id": "f4969700",
   "metadata": {},
   "outputs": [],
   "source": [
    "# self-employed, entrepreneur,unemployed, housemaid,student,unknown are all less than 5%,\n",
    "#thus, we can club them into two types and forma a new derived column.\n",
    "\n",
    "# new derived column from job =  job_new\n",
    "\n",
    "X['job_new']=X['job']"
   ]
  },
  {
   "cell_type": "code",
   "execution_count": 17,
   "id": "0dfe7efb",
   "metadata": {},
   "outputs": [],
   "source": [
    "# clubbing the values in the job_new"
   ]
  },
  {
   "cell_type": "code",
   "execution_count": 18,
   "id": "75e9899e",
   "metadata": {},
   "outputs": [],
   "source": [
    "def replace_value(X,col,val1, val2):\n",
    "        X[col]=X[col].replace([val1], val2)\n",
    "        return X[col].unique()\n",
    " "
   ]
  },
  {
   "cell_type": "code",
   "execution_count": 19,
   "id": "01e290ed",
   "metadata": {},
   "outputs": [
    {
     "data": {
      "text/plain": [
       "array(['management', 'technician', 'entrepreneur', 'blue-collar',\n",
       "       'unknown', 'retired', 'admin.', 'services', 'self-employed',\n",
       "       'unemployed', 'student'], dtype=object)"
      ]
     },
     "execution_count": 19,
     "metadata": {},
     "output_type": "execute_result"
    }
   ],
   "source": [
    "replace_value(X,'job_new','housemaid','self-employed')"
   ]
  },
  {
   "cell_type": "code",
   "execution_count": 20,
   "id": "3b8e2241",
   "metadata": {},
   "outputs": [
    {
     "data": {
      "text/plain": [
       "array(['management', 'technician', 'self-employed', 'blue-collar',\n",
       "       'unknown', 'retired', 'admin.', 'services', 'unemployed',\n",
       "       'student'], dtype=object)"
      ]
     },
     "execution_count": 20,
     "metadata": {},
     "output_type": "execute_result"
    }
   ],
   "source": [
    "replace_value(X,'job_new','entrepreneur','self-employed')"
   ]
  },
  {
   "cell_type": "code",
   "execution_count": 21,
   "id": "86663f02",
   "metadata": {},
   "outputs": [
    {
     "data": {
      "text/plain": [
       "array(['management', 'technician', 'self-employed', 'blue-collar',\n",
       "       'unknown', 'retired', 'admin.', 'services', 'unemployed'],\n",
       "      dtype=object)"
      ]
     },
     "execution_count": 21,
     "metadata": {},
     "output_type": "execute_result"
    }
   ],
   "source": [
    "replace_value(X,'job_new','student','unemployed')\n",
    "# "
   ]
  },
  {
   "cell_type": "code",
   "execution_count": 22,
   "id": "d44e7ffb",
   "metadata": {},
   "outputs": [
    {
     "data": {
      "text/plain": [
       "array(['management', 'technician', 'self-employed', 'blue-collar',\n",
       "       'unemployed', 'retired', 'admin.', 'services'], dtype=object)"
      ]
     },
     "execution_count": 22,
     "metadata": {},
     "output_type": "execute_result"
    }
   ],
   "source": [
    "replace_value(X,'job_new','unknown','unemployed')"
   ]
  },
  {
   "cell_type": "code",
   "execution_count": 23,
   "id": "656facd2",
   "metadata": {},
   "outputs": [
    {
     "data": {
      "text/plain": [
       "blue-collar      21.525735\n",
       "management       20.919688\n",
       "technician       16.803433\n",
       "admin.           11.437482\n",
       "self-employed     9.524231\n",
       "services          9.188029\n",
       "unemployed        5.593771\n",
       "retired           5.007631\n",
       "Name: job_new, dtype: float64"
      ]
     },
     "execution_count": 23,
     "metadata": {},
     "output_type": "execute_result"
    }
   ],
   "source": [
    "(X['job_new'].value_counts()/len(X['job']))*100"
   ]
  },
  {
   "cell_type": "markdown",
   "id": "dfab4ac2",
   "metadata": {},
   "source": [
    "# marital"
   ]
  },
  {
   "cell_type": "code",
   "execution_count": 24,
   "id": "4ddbd75c",
   "metadata": {},
   "outputs": [
    {
     "data": {
      "text/plain": [
       "married     60.193316\n",
       "single      28.289576\n",
       "divorced    11.517109\n",
       "Name: marital, dtype: float64"
      ]
     },
     "execution_count": 24,
     "metadata": {},
     "output_type": "execute_result"
    }
   ],
   "source": [
    "(X['marital'].value_counts()/len(X['marital']))*100"
   ]
  },
  {
   "cell_type": "markdown",
   "id": "f97a718d",
   "metadata": {},
   "source": [
    "# education"
   ]
  },
  {
   "cell_type": "code",
   "execution_count": 25,
   "id": "fb254a80",
   "metadata": {},
   "outputs": [
    {
     "data": {
      "text/plain": [
       "secondary    51.319369\n",
       "tertiary     29.419831\n",
       "primary      15.153392\n",
       "unknown       4.107407\n",
       "Name: education, dtype: float64"
      ]
     },
     "execution_count": 25,
     "metadata": {},
     "output_type": "execute_result"
    }
   ],
   "source": [
    "(X['education'].value_counts()/len(X['education']))*100"
   ]
  },
  {
   "cell_type": "markdown",
   "id": "c020053e",
   "metadata": {},
   "source": [
    "# default"
   ]
  },
  {
   "cell_type": "code",
   "execution_count": 26,
   "id": "77c34da6",
   "metadata": {},
   "outputs": [
    {
     "data": {
      "text/plain": [
       "no     98.197341\n",
       "yes     1.802659\n",
       "Name: default, dtype: float64"
      ]
     },
     "execution_count": 26,
     "metadata": {},
     "output_type": "execute_result"
    }
   ],
   "source": [
    "(X['default'].value_counts()/len(X['default']))*100\n"
   ]
  },
  {
   "cell_type": "code",
   "execution_count": 27,
   "id": "66a83784",
   "metadata": {},
   "outputs": [
    {
     "name": "stdout",
     "output_type": "stream",
     "text": [
      "(45211, 16)\n"
     ]
    }
   ],
   "source": [
    "# we can drop this column as it has almost no variance\n",
    "X.drop('default', axis=1, inplace=True)\n",
    "print(X.shape)\n"
   ]
  },
  {
   "cell_type": "markdown",
   "id": "6be09d2c",
   "metadata": {},
   "source": [
    "# balance"
   ]
  },
  {
   "cell_type": "code",
   "execution_count": 28,
   "id": "2960db8b",
   "metadata": {},
   "outputs": [
    {
     "data": {
      "text/plain": [
       "<AxesSubplot:xlabel='balance'>"
      ]
     },
     "execution_count": 28,
     "metadata": {},
     "output_type": "execute_result"
    },
    {
     "data": {
      "image/png": "[encoded data removed]",
      "text/plain": [
       "<Figure size 432x288 with 1 Axes>"
      ]
     },
     "metadata": {
      "needs_background": "light"
     },
     "output_type": "display_data"
    }
   ],
   "source": [
    "sns.boxplot(x=X['balance'])\n"
   ]
  },
  {
   "cell_type": "code",
   "execution_count": 29,
   "id": "f44e736d",
   "metadata": {},
   "outputs": [],
   "source": [
    "# As it conatin outliers, we can clip it using the funcyion outlier"
   ]
  },
  {
   "cell_type": "code",
   "execution_count": 30,
   "id": "0233a31a",
   "metadata": {},
   "outputs": [
    {
     "data": {
      "text/plain": [
       "(45211, 16)"
      ]
     },
     "execution_count": 30,
     "metadata": {},
     "output_type": "execute_result"
    }
   ],
   "source": [
    "outlier(X,'balance')"
   ]
  },
  {
   "cell_type": "code",
   "execution_count": 31,
   "id": "ae2c622e",
   "metadata": {},
   "outputs": [
    {
     "data": {
      "text/plain": [
       "<AxesSubplot:xlabel='balance'>"
      ]
     },
     "execution_count": 31,
     "metadata": {},
     "output_type": "execute_result"
    },
    {
     "data": {
      "image/png": "[encoded data removed]",
      "text/plain": [
       "<Figure size 432x288 with 1 Axes>"
      ]
     },
     "metadata": {
      "needs_background": "light"
     },
     "output_type": "display_data"
    }
   ],
   "source": [
    "sns.boxplot(x=X['balance'])\n"
   ]
  },
  {
   "cell_type": "markdown",
   "id": "fd2e9a71",
   "metadata": {},
   "source": [
    "# housing"
   ]
  },
  {
   "cell_type": "code",
   "execution_count": 32,
   "id": "07ad388a",
   "metadata": {},
   "outputs": [
    {
     "data": {
      "text/plain": [
       "yes    55.583818\n",
       "no     44.416182\n",
       "Name: housing, dtype: float64"
      ]
     },
     "execution_count": 32,
     "metadata": {},
     "output_type": "execute_result"
    }
   ],
   "source": [
    "(X['housing'].value_counts()/len(X['housing']))*100"
   ]
  },
  {
   "cell_type": "code",
   "execution_count": 33,
   "id": "d2bdbdfb",
   "metadata": {},
   "outputs": [],
   "source": [
    "#As the values in the housing column are in acceptable ration, we can keep it as it is"
   ]
  },
  {
   "cell_type": "markdown",
   "id": "2fc8e3a4",
   "metadata": {},
   "source": [
    "# loan"
   ]
  },
  {
   "cell_type": "code",
   "execution_count": 34,
   "id": "46f56bbe",
   "metadata": {},
   "outputs": [
    {
     "data": {
      "text/plain": [
       "no     83.977351\n",
       "yes    16.022649\n",
       "Name: loan, dtype: float64"
      ]
     },
     "execution_count": 34,
     "metadata": {},
     "output_type": "execute_result"
    }
   ],
   "source": [
    "(X['loan'].value_counts()/len(X['loan']))*100"
   ]
  },
  {
   "cell_type": "code",
   "execution_count": 35,
   "id": "069da79b",
   "metadata": {},
   "outputs": [
    {
     "name": "stdout",
     "output_type": "stream",
     "text": [
      "(45211, 15)\n"
     ]
    }
   ],
   "source": [
    "# As the % of no is > 75 % , we can drop it a there is almost no variance in the column\n",
    "\n",
    "X.drop('loan', axis=1, inplace=True)\n",
    "print(X.shape)\n"
   ]
  },
  {
   "cell_type": "markdown",
   "id": "97e68249",
   "metadata": {},
   "source": [
    "# day\\"
   ]
  },
  {
   "cell_type": "code",
   "execution_count": null,
   "id": "e23f5631",
   "metadata": {},
   "outputs": [],
   "source": []
  },
  {
   "cell_type": "code",
   "execution_count": 36,
   "id": "5acb69d3",
   "metadata": {},
   "outputs": [
    {
     "data": {
      "text/plain": [
       "<AxesSubplot:xlabel='day'>"
      ]
     },
     "execution_count": 36,
     "metadata": {},
     "output_type": "execute_result"
    },
    {
     "data": {
      "image/png": "[encoded data removed]",
      "text/plain": [
       "<Figure size 432x288 with 1 Axes>"
      ]
     },
     "metadata": {
      "needs_background": "light"
     },
     "output_type": "display_data"
    }
   ],
   "source": [
    "sns.boxplot(x=X['day'])\n",
    "# no outliers\n",
    "# day is a discrete numerical variable"
   ]
  },
  {
   "cell_type": "markdown",
   "id": "490b0692",
   "metadata": {},
   "source": [
    "# month"
   ]
  },
  {
   "cell_type": "code",
   "execution_count": 37,
   "id": "2506bc4d",
   "metadata": {},
   "outputs": [
    {
     "data": {
      "text/plain": [
       "<AxesSubplot:xlabel='month', ylabel='Count'>"
      ]
     },
     "execution_count": 37,
     "metadata": {},
     "output_type": "execute_result"
    },
    {
     "data": {
      "image/png": "[encoded data removed]",
      "text/plain": [
       "<Figure size 432x288 with 1 Axes>"
      ]
     },
     "metadata": {
      "needs_background": "light"
     },
     "output_type": "display_data"
    }
   ],
   "source": [
    "sns.histplot(x=X['month'])\n",
    "# transform into quarters or seasons"
   ]
  },
  {
   "cell_type": "code",
   "execution_count": 38,
   "id": "1820a5f9",
   "metadata": {},
   "outputs": [
    {
     "data": {
      "text/plain": [
       "may    30.448342\n",
       "jul    15.250713\n",
       "aug    13.817434\n",
       "jun    11.813497\n",
       "nov     8.781049\n",
       "apr     6.485147\n",
       "feb     5.859194\n",
       "jan     3.103227\n",
       "oct     1.632346\n",
       "sep     1.280662\n",
       "mar     1.055053\n",
       "dec     0.473336\n",
       "Name: month, dtype: float64"
      ]
     },
     "execution_count": 38,
     "metadata": {},
     "output_type": "execute_result"
    }
   ],
   "source": [
    "(X['month'].value_counts()/len(X['month']))*100"
   ]
  },
  {
   "cell_type": "markdown",
   "id": "c4a6d193",
   "metadata": {},
   "source": [
    "# duration"
   ]
  },
  {
   "cell_type": "code",
   "execution_count": 39,
   "id": "d18971a7",
   "metadata": {},
   "outputs": [
    {
     "data": {
      "text/plain": [
       "<AxesSubplot:xlabel='duration'>"
      ]
     },
     "execution_count": 39,
     "metadata": {},
     "output_type": "execute_result"
    },
    {
     "data": {
      "image/png": "[encoded data removed]",
      "text/plain": [
       "<Figure size 432x288 with 1 Axes>"
      ]
     },
     "metadata": {
      "needs_background": "light"
     },
     "output_type": "display_data"
    }
   ],
   "source": [
    "sns.boxplot(x=X['duration'])\n"
   ]
  },
  {
   "cell_type": "code",
   "execution_count": 40,
   "id": "de87d5f6",
   "metadata": {},
   "outputs": [
    {
     "data": {
      "text/plain": [
       "(45211, 15)"
      ]
     },
     "execution_count": 40,
     "metadata": {},
     "output_type": "execute_result"
    }
   ],
   "source": [
    "outlier(X,'duration')"
   ]
  },
  {
   "cell_type": "code",
   "execution_count": 41,
   "id": "71b55a60",
   "metadata": {},
   "outputs": [
    {
     "data": {
      "text/plain": [
       "<AxesSubplot:xlabel='duration'>"
      ]
     },
     "execution_count": 41,
     "metadata": {},
     "output_type": "execute_result"
    },
    {
     "data": {
      "image/png": "[encoded data removed]",
      "text/plain": [
       "<Figure size 432x288 with 1 Axes>"
      ]
     },
     "metadata": {
      "needs_background": "light"
     },
     "output_type": "display_data"
    }
   ],
   "source": [
    "sns.boxplot(x=X['duration'])\n"
   ]
  },
  {
   "cell_type": "markdown",
   "id": "a2256a19",
   "metadata": {},
   "source": [
    "# campaign"
   ]
  },
  {
   "cell_type": "code",
   "execution_count": 42,
   "id": "8e223484",
   "metadata": {},
   "outputs": [
    {
     "data": {
      "text/plain": [
       "<AxesSubplot:xlabel='campaign'>"
      ]
     },
     "execution_count": 42,
     "metadata": {},
     "output_type": "execute_result"
    },
    {
     "data": {
      "image/png": "[encoded data removed]",
      "text/plain": [
       "<Figure size 432x288 with 1 Axes>"
      ]
     },
     "metadata": {
      "needs_background": "light"
     },
     "output_type": "display_data"
    }
   ],
   "source": [
    "sns.boxplot(x=X['campaign'])\n"
   ]
  },
  {
   "cell_type": "code",
   "execution_count": 43,
   "id": "63c516a6",
   "metadata": {},
   "outputs": [
    {
     "data": {
      "text/plain": [
       "(45211, 15)"
      ]
     },
     "execution_count": 43,
     "metadata": {},
     "output_type": "execute_result"
    }
   ],
   "source": [
    "outlier(X,'campaign')"
   ]
  },
  {
   "cell_type": "code",
   "execution_count": 44,
   "id": "3f586e24",
   "metadata": {},
   "outputs": [
    {
     "data": {
      "text/plain": [
       "<AxesSubplot:xlabel='campaign'>"
      ]
     },
     "execution_count": 44,
     "metadata": {},
     "output_type": "execute_result"
    },
    {
     "data": {
      "image/png": "[encoded data removed]",
      "text/plain": [
       "<Figure size 432x288 with 1 Axes>"
      ]
     },
     "metadata": {
      "needs_background": "light"
     },
     "output_type": "display_data"
    }
   ],
   "source": [
    "sns.boxplot(x=X['campaign'])\n"
   ]
  },
  {
   "cell_type": "markdown",
   "id": "c11f9d19",
   "metadata": {},
   "source": [
    "# pdays"
   ]
  },
  {
   "cell_type": "code",
   "execution_count": 45,
   "id": "3ea98252",
   "metadata": {},
   "outputs": [
    {
     "data": {
      "text/plain": [
       "count    45211.000000\n",
       "mean        40.197828\n",
       "std        100.128746\n",
       "min         -1.000000\n",
       "25%         -1.000000\n",
       "50%         -1.000000\n",
       "75%         -1.000000\n",
       "max        871.000000\n",
       "Name: pdays, dtype: float64"
      ]
     },
     "execution_count": 45,
     "metadata": {},
     "output_type": "execute_result"
    }
   ],
   "source": [
    "X['pdays'].describe()"
   ]
  },
  {
   "cell_type": "code",
   "execution_count": 46,
   "id": "bf0d1a2d",
   "metadata": {},
   "outputs": [],
   "source": [
    "#75% of data is -1, thus it has very low variance, thus we can drop it\n",
    "\n",
    "X.drop('pdays', axis=1, inplace=True)\n"
   ]
  },
  {
   "cell_type": "markdown",
   "id": "c42dd3b6",
   "metadata": {},
   "source": [
    "# previous"
   ]
  },
  {
   "cell_type": "code",
   "execution_count": 47,
   "id": "b3b6a550",
   "metadata": {},
   "outputs": [
    {
     "data": {
      "text/plain": [
       "count    45211.000000\n",
       "mean         0.580323\n",
       "std          2.303441\n",
       "min          0.000000\n",
       "25%          0.000000\n",
       "50%          0.000000\n",
       "75%          0.000000\n",
       "max        275.000000\n",
       "Name: previous, dtype: float64"
      ]
     },
     "execution_count": 47,
     "metadata": {},
     "output_type": "execute_result"
    }
   ],
   "source": [
    "X['previous'].describe()\n",
    "\n",
    " "
   ]
  },
  {
   "cell_type": "code",
   "execution_count": 48,
   "id": "2893fc34",
   "metadata": {},
   "outputs": [],
   "source": [
    "# 75% of data is 0, thus, we can drop it\n",
    "X.drop('previous', axis=1, inplace=True)\n"
   ]
  },
  {
   "cell_type": "markdown",
   "id": "a529bc3c",
   "metadata": {},
   "source": [
    "# poutcome"
   ]
  },
  {
   "cell_type": "code",
   "execution_count": 49,
   "id": "42acb62c",
   "metadata": {},
   "outputs": [
    {
     "data": {
      "text/plain": [
       "unknown    81.747805\n",
       "failure    10.840282\n",
       "other       4.069806\n",
       "success     3.342107\n",
       "Name: poutcome, dtype: float64"
      ]
     },
     "execution_count": 49,
     "metadata": {},
     "output_type": "execute_result"
    }
   ],
   "source": [
    "(X['poutcome'].value_counts()/len(X['poutcome']))*100\n"
   ]
  },
  {
   "cell_type": "code",
   "execution_count": 50,
   "id": "0c378705",
   "metadata": {},
   "outputs": [],
   "source": [
    "#unkown is 81%, very low variance, we can drop. \n",
    "X.drop('poutcome', axis=1, inplace=True)\n"
   ]
  },
  {
   "cell_type": "code",
   "execution_count": 51,
   "id": "2d924332",
   "metadata": {},
   "outputs": [
    {
     "data": {
      "text/plain": [
       "(45211, 12)"
      ]
     },
     "execution_count": 51,
     "metadata": {},
     "output_type": "execute_result"
    }
   ],
   "source": [
    "X.shape"
   ]
  },
  {
   "cell_type": "code",
   "execution_count": 52,
   "id": "6730ff0e",
   "metadata": {},
   "outputs": [
    {
     "data": {
      "text/plain": [
       "Index(['age', 'job', 'marital', 'education', 'balance', 'housing', 'contact',\n",
       "       'day', 'month', 'duration', 'campaign', 'job_new'],\n",
       "      dtype='object')"
      ]
     },
     "execution_count": 52,
     "metadata": {},
     "output_type": "execute_result"
    }
   ],
   "source": [
    "X.columns"
   ]
  },
  {
   "cell_type": "markdown",
   "id": "1afb2733",
   "metadata": {},
   "source": [
    "# Transforming data"
   ]
  },
  {
   "cell_type": "markdown",
   "id": "3982039d",
   "metadata": {},
   "source": [
    "### Binning age"
   ]
  },
  {
   "cell_type": "code",
   "execution_count": 53,
   "id": "97af79a2",
   "metadata": {},
   "outputs": [
    {
     "name": "stdout",
     "output_type": "stream",
     "text": [
      "23\n",
      "71\n"
     ]
    }
   ],
   "source": [
    "# print(df['age'].unique())\n",
    "print(X['age'].min())\n",
    "print(X['age'].max())"
   ]
  },
  {
   "cell_type": "code",
   "execution_count": 54,
   "id": "ad8a106c",
   "metadata": {},
   "outputs": [
    {
     "data": {
      "text/plain": [
       "Index(['age', 'job', 'marital', 'education', 'balance', 'housing', 'contact',\n",
       "       'day', 'month', 'duration', 'campaign', 'job_new', 'age_binned'],\n",
       "      dtype='object')"
      ]
     },
     "execution_count": 54,
     "metadata": {},
     "output_type": "execute_result"
    }
   ],
   "source": [
    "bins= [20,30,35,40,45,50,80]\n",
    "X['age_binned'] = pd.cut(X['age'], bins)\n",
    "(X['age_binned'].value_counts())\n",
    "X.columns"
   ]
  },
  {
   "cell_type": "markdown",
   "id": "048d29f9",
   "metadata": {},
   "source": [
    "### binning months"
   ]
  },
  {
   "cell_type": "code",
   "execution_count": 55,
   "id": "c9fcc6fe",
   "metadata": {},
   "outputs": [],
   "source": [
    "X['month_bin']=X['month']"
   ]
  },
  {
   "cell_type": "code",
   "execution_count": 56,
   "id": "f93958a4",
   "metadata": {},
   "outputs": [],
   "source": [
    "def month_quarter (X):\n",
    "    if X['month_bin'] in ['jan','feb','mar']:\n",
    "        return 'quarter 4'\n",
    "    if X['month_bin'] in ['apr','may','jun']:\n",
    "        return 'quarter 1'\n",
    "    if X['month_bin'] in ['jul','aug','sep']:\n",
    "        return 'quarter 2'\n",
    "    if X['month_bin'] in ['oct','nov','dec']:\n",
    "        return 'quarter 3'\n",
    "    return 'N/A'\n",
    "\n",
    "\n",
    "\n"
   ]
  },
  {
   "cell_type": "code",
   "execution_count": 57,
   "id": "f0c614df",
   "metadata": {},
   "outputs": [],
   "source": [
    "X['month_bin'] = X.apply(lambda X: month_quarter(X), axis=1)\n"
   ]
  },
  {
   "cell_type": "code",
   "execution_count": 58,
   "id": "335f8063",
   "metadata": {},
   "outputs": [
    {
     "data": {
      "text/plain": [
       "array(['quarter 1', 'quarter 2', 'quarter 3', 'quarter 4'], dtype=object)"
      ]
     },
     "execution_count": 58,
     "metadata": {},
     "output_type": "execute_result"
    }
   ],
   "source": [
    "X['month_bin'].unique()"
   ]
  },
  {
   "cell_type": "code",
   "execution_count": 59,
   "id": "2301c1bc",
   "metadata": {},
   "outputs": [],
   "source": [
    "X.drop('month', axis=1, inplace=True)"
   ]
  },
  {
   "cell_type": "code",
   "execution_count": 60,
   "id": "b2f695fb",
   "metadata": {},
   "outputs": [
    {
     "data": {
      "text/plain": [
       "(45211, 13)"
      ]
     },
     "execution_count": 60,
     "metadata": {},
     "output_type": "execute_result"
    }
   ],
   "source": [
    "X.shape"
   ]
  },
  {
   "cell_type": "markdown",
   "id": "5b38e850",
   "metadata": {},
   "source": [
    "## transforming day to week of the month"
   ]
  },
  {
   "cell_type": "code",
   "execution_count": 61,
   "id": "0f71189b",
   "metadata": {},
   "outputs": [],
   "source": [
    "X['week']=X['day']"
   ]
  },
  {
   "cell_type": "code",
   "execution_count": 62,
   "id": "977bc191",
   "metadata": {},
   "outputs": [],
   "source": [
    "def week (X):\n",
    "    if X['day'] in [1,2,3,4,5,6,7]:\n",
    "        return 'week_1'\n",
    "    if X['day'] in [8,9,10,11,12,13,14]:\n",
    "        return 'week_2'\n",
    "    if X['day'] in [15,16,17,18,19,20,21]:\n",
    "        return 'week_3'\n",
    "    return 'week_4'\n",
    "\n",
    "\n",
    "\n"
   ]
  },
  {
   "cell_type": "code",
   "execution_count": 63,
   "id": "f1ad6420",
   "metadata": {},
   "outputs": [],
   "source": [
    "X['week'] = X.apply(lambda X: week(X), axis=1)\n"
   ]
  },
  {
   "cell_type": "code",
   "execution_count": 64,
   "id": "c3e71a78",
   "metadata": {},
   "outputs": [
    {
     "data": {
      "text/plain": [
       "array(['week_1', 'week_2', 'week_3', 'week_4'], dtype=object)"
      ]
     },
     "execution_count": 64,
     "metadata": {},
     "output_type": "execute_result"
    }
   ],
   "source": [
    "X['week'].unique()"
   ]
  },
  {
   "cell_type": "code",
   "execution_count": 65,
   "id": "f4e154d7",
   "metadata": {},
   "outputs": [
    {
     "data": {
      "text/plain": [
       "Index(['age', 'job', 'marital', 'education', 'balance', 'housing', 'contact',\n",
       "       'day', 'duration', 'campaign', 'job_new', 'age_binned', 'month_bin',\n",
       "       'week'],\n",
       "      dtype='object')"
      ]
     },
     "execution_count": 65,
     "metadata": {},
     "output_type": "execute_result"
    }
   ],
   "source": [
    "X.columns"
   ]
  },
  {
   "cell_type": "markdown",
   "id": "c385588f",
   "metadata": {},
   "source": [
    "## balance- binning and ILATE transformation\n",
    "### to find the balance parameter best describing the relation with the output/dependent variable"
   ]
  },
  {
   "cell_type": "code",
   "execution_count": 66,
   "id": "2f649830",
   "metadata": {},
   "outputs": [
    {
     "data": {
      "text/plain": [
       "count    45211.000000\n",
       "mean      1278.121689\n",
       "std       2249.406970\n",
       "min       -627.000000\n",
       "25%         72.000000\n",
       "50%        448.000000\n",
       "75%       1428.000000\n",
       "max      13164.900000\n",
       "Name: balance, dtype: float64"
      ]
     },
     "execution_count": 66,
     "metadata": {},
     "output_type": "execute_result"
    }
   ],
   "source": [
    "X['balance'].describe()"
   ]
  },
  {
   "cell_type": "code",
   "execution_count": 67,
   "id": "d8f2c49c",
   "metadata": {},
   "outputs": [
    {
     "data": {
      "text/plain": [
       "(0, 500]         16385\n",
       "(500, 2000]      13045\n",
       "(2000, 14000]     8501\n",
       "(-1000, 0]        7280\n",
       "Name: balance_binned, dtype: int64"
      ]
     },
     "execution_count": 67,
     "metadata": {},
     "output_type": "execute_result"
    }
   ],
   "source": [
    "bins= [-1000,0,500,2000,14000]\n",
    "X['balance_binned'] = pd.cut(X['balance'], bins)\n",
    "(X['balance_binned'].value_counts())\n",
    "# df.columns"
   ]
  },
  {
   "cell_type": "code",
   "execution_count": 68,
   "id": "5c977bca",
   "metadata": {},
   "outputs": [
    {
     "data": {
      "text/plain": [
       "(0, 500]         36.241180\n",
       "(500, 2000]      28.853598\n",
       "(2000, 14000]    18.802946\n",
       "(-1000, 0]       16.102276\n",
       "Name: balance_binned, dtype: float64"
      ]
     },
     "execution_count": 68,
     "metadata": {},
     "output_type": "execute_result"
    }
   ],
   "source": [
    "(X['balance_binned'].value_counts()/len(X['balance_binned']))*100"
   ]
  },
  {
   "cell_type": "code",
   "execution_count": null,
   "id": "b72ff929",
   "metadata": {},
   "outputs": [],
   "source": []
  },
  {
   "cell_type": "code",
   "execution_count": 69,
   "id": "ba41683c",
   "metadata": {},
   "outputs": [
    {
     "name": "stderr",
     "output_type": "stream",
     "text": [
      "C:\\ProgramData\\Anaconda3\\lib\\site-packages\\pandas\\core\\arraylike.py:358: RuntimeWarning: divide by zero encountered in reciprocal\n",
      "  result = getattr(ufunc, method)(*inputs, **kwargs)\n",
      "C:\\ProgramData\\Anaconda3\\lib\\site-packages\\pandas\\core\\arraylike.py:358: RuntimeWarning: divide by zero encountered in log\n",
      "  result = getattr(ufunc, method)(*inputs, **kwargs)\n",
      "C:\\ProgramData\\Anaconda3\\lib\\site-packages\\pandas\\core\\arraylike.py:358: RuntimeWarning: invalid value encountered in log\n",
      "  result = getattr(ufunc, method)(*inputs, **kwargs)\n",
      "C:\\ProgramData\\Anaconda3\\lib\\site-packages\\pandas\\core\\arraylike.py:358: RuntimeWarning: invalid value encountered in sqrt\n",
      "  result = getattr(ufunc, method)(*inputs, **kwargs)\n",
      "C:\\ProgramData\\Anaconda3\\lib\\site-packages\\pandas\\core\\arraylike.py:358: RuntimeWarning: overflow encountered in exp\n",
      "  result = getattr(ufunc, method)(*inputs, **kwargs)\n"
     ]
    }
   ],
   "source": [
    "X['inv_balance']= np.reciprocal(X.balance)\n",
    "X['log_balance'] = np.log(X.balance)\n",
    "X['sq_balance'] = np.square(X.balance)\n",
    "X['cube_balance'] = np.power(X.balance,3)\n",
    "X['sqrt_balance'] = np.sqrt(X.balance)\n",
    "X['cbrt_balance'] = np.cbrt(X.balance)\n",
    "X['sin_balance'] = np.sin(X.balance)\n",
    "X['cos_balance'] = np.cos(X.balance)\n",
    "X['exp_balance'] = np.exp(X.balance)\n",
    "\n",
    "\n",
    "\n",
    "\n",
    "\n"
   ]
  },
  {
   "cell_type": "code",
   "execution_count": 70,
   "id": "078a8a00",
   "metadata": {},
   "outputs": [
    {
     "data": {
      "text/plain": [
       "inv_balance        0\n",
       "log_balance     3766\n",
       "sq_balance         0\n",
       "cube_balance       0\n",
       "sqrt_balance    3766\n",
       "cbrt_balance       0\n",
       "sin_balance        0\n",
       "cos_balance        0\n",
       "exp_balance        0\n",
       "dtype: int64"
      ]
     },
     "execution_count": 70,
     "metadata": {},
     "output_type": "execute_result"
    }
   ],
   "source": [
    "X.iloc[:,15:24].isnull().sum()"
   ]
  },
  {
   "cell_type": "code",
   "execution_count": 71,
   "id": "9b0a0c51",
   "metadata": {},
   "outputs": [],
   "source": [
    "# dropping the columns with large number of null values\n",
    "X.drop('sqrt_balance', axis=1, inplace=True)\n",
    "X.drop('log_balance', axis=1, inplace=True)\n"
   ]
  },
  {
   "cell_type": "code",
   "execution_count": 72,
   "id": "b208ecc2",
   "metadata": {},
   "outputs": [],
   "source": [
    "bal = X.iloc[:, 15:22].copy() \n"
   ]
  },
  {
   "cell_type": "code",
   "execution_count": 73,
   "id": "867107e7",
   "metadata": {},
   "outputs": [
    {
     "name": "stderr",
     "output_type": "stream",
     "text": [
      "C:\\ProgramData\\Anaconda3\\lib\\site-packages\\numpy\\lib\\function_base.py:3961: RuntimeWarning: invalid value encountered in subtract\n",
      "  diff_b_a = subtract(b, a)\n"
     ]
    },
    {
     "data": {
      "text/html": [
       "<div>\n",
       "<style scoped>\n",
       "    .dataframe tbody tr th:only-of-type {\n",
       "        vertical-align: middle;\n",
       "    }\n",
       "\n",
       "    .dataframe tbody tr th {\n",
       "        vertical-align: top;\n",
       "    }\n",
       "\n",
       "    .dataframe thead th {\n",
       "        text-align: right;\n",
       "    }\n",
       "</style>\n",
       "<table border=\"1\" class=\"dataframe\">\n",
       "  <thead>\n",
       "    <tr style=\"text-align: right;\">\n",
       "      <th></th>\n",
       "      <th>inv_balance</th>\n",
       "      <th>sq_balance</th>\n",
       "      <th>cube_balance</th>\n",
       "      <th>cbrt_balance</th>\n",
       "      <th>sin_balance</th>\n",
       "      <th>cos_balance</th>\n",
       "      <th>exp_balance</th>\n",
       "    </tr>\n",
       "  </thead>\n",
       "  <tbody>\n",
       "    <tr>\n",
       "      <th>count</th>\n",
       "      <td>4.521100e+04</td>\n",
       "      <td>4.521100e+04</td>\n",
       "      <td>4.521100e+04</td>\n",
       "      <td>45211.000000</td>\n",
       "      <td>45211.000000</td>\n",
       "      <td>45211.000000</td>\n",
       "      <td>4.521100e+04</td>\n",
       "    </tr>\n",
       "    <tr>\n",
       "      <th>mean</th>\n",
       "      <td>inf</td>\n",
       "      <td>6.693315e+06</td>\n",
       "      <td>5.646782e+10</td>\n",
       "      <td>7.430709</td>\n",
       "      <td>0.021141</td>\n",
       "      <td>0.067698</td>\n",
       "      <td>inf</td>\n",
       "    </tr>\n",
       "    <tr>\n",
       "      <th>std</th>\n",
       "      <td>NaN</td>\n",
       "      <td>2.327781e+07</td>\n",
       "      <td>2.780413e+11</td>\n",
       "      <td>6.432831</td>\n",
       "      <td>0.687408</td>\n",
       "      <td>0.722816</td>\n",
       "      <td>NaN</td>\n",
       "    </tr>\n",
       "    <tr>\n",
       "      <th>min</th>\n",
       "      <td>-1.000000e+00</td>\n",
       "      <td>0.000000e+00</td>\n",
       "      <td>-2.464919e+08</td>\n",
       "      <td>-8.558990</td>\n",
       "      <td>-0.999993</td>\n",
       "      <td>-1.000000</td>\n",
       "      <td>4.981497e-273</td>\n",
       "    </tr>\n",
       "    <tr>\n",
       "      <th>25%</th>\n",
       "      <td>4.380201e-04</td>\n",
       "      <td>1.876900e+04</td>\n",
       "      <td>3.732480e+05</td>\n",
       "      <td>4.160168</td>\n",
       "      <td>-0.643561</td>\n",
       "      <td>-0.653644</td>\n",
       "      <td>1.858672e+31</td>\n",
       "    </tr>\n",
       "    <tr>\n",
       "      <th>50%</th>\n",
       "      <td>1.529052e-03</td>\n",
       "      <td>2.352250e+05</td>\n",
       "      <td>8.991539e+07</td>\n",
       "      <td>7.651725</td>\n",
       "      <td>0.000000</td>\n",
       "      <td>0.110357</td>\n",
       "      <td>3.663767e+194</td>\n",
       "    </tr>\n",
       "    <tr>\n",
       "      <th>75%</th>\n",
       "      <td>5.714286e-03</td>\n",
       "      <td>2.039184e+06</td>\n",
       "      <td>2.911955e+09</td>\n",
       "      <td>11.260977</td>\n",
       "      <td>0.708383</td>\n",
       "      <td>0.814041</td>\n",
       "      <td>NaN</td>\n",
       "    </tr>\n",
       "    <tr>\n",
       "      <th>max</th>\n",
       "      <td>inf</td>\n",
       "      <td>1.733146e+08</td>\n",
       "      <td>2.281669e+12</td>\n",
       "      <td>23.612349</td>\n",
       "      <td>0.999994</td>\n",
       "      <td>1.000000</td>\n",
       "      <td>inf</td>\n",
       "    </tr>\n",
       "  </tbody>\n",
       "</table>\n",
       "</div>"
      ],
      "text/plain": [
       "        inv_balance    sq_balance  cube_balance  cbrt_balance   sin_balance  \\\n",
       "count  4.521100e+04  4.521100e+04  4.521100e+04  45211.000000  45211.000000   \n",
       "mean            inf  6.693315e+06  5.646782e+10      7.430709      0.021141   \n",
       "std             NaN  2.327781e+07  2.780413e+11      6.432831      0.687408   \n",
       "min   -1.000000e+00  0.000000e+00 -2.464919e+08     -8.558990     -0.999993   \n",
       "25%    4.380201e-04  1.876900e+04  3.732480e+05      4.160168     -0.643561   \n",
       "50%    1.529052e-03  2.352250e+05  8.991539e+07      7.651725      0.000000   \n",
       "75%    5.714286e-03  2.039184e+06  2.911955e+09     11.260977      0.708383   \n",
       "max             inf  1.733146e+08  2.281669e+12     23.612349      0.999994   \n",
       "\n",
       "        cos_balance    exp_balance  \n",
       "count  45211.000000   4.521100e+04  \n",
       "mean       0.067698            inf  \n",
       "std        0.722816            NaN  \n",
       "min       -1.000000  4.981497e-273  \n",
       "25%       -0.653644   1.858672e+31  \n",
       "50%        0.110357  3.663767e+194  \n",
       "75%        0.814041            NaN  \n",
       "max        1.000000            inf  "
      ]
     },
     "execution_count": 73,
     "metadata": {},
     "output_type": "execute_result"
    }
   ],
   "source": [
    "bal.describe()"
   ]
  },
  {
   "cell_type": "code",
   "execution_count": 74,
   "id": "c2204283",
   "metadata": {},
   "outputs": [],
   "source": [
    "# dropping the columns with infinite values\n",
    "X.drop('inv_balance', axis=1, inplace=True)\n",
    "X.drop('exp_balance', axis=1, inplace=True)\n"
   ]
  },
  {
   "cell_type": "code",
   "execution_count": 75,
   "id": "d6f83252",
   "metadata": {},
   "outputs": [
    {
     "data": {
      "text/plain": [
       "{0: 'age',\n",
       " 1: 'job',\n",
       " 2: 'marital',\n",
       " 3: 'education',\n",
       " 4: 'balance',\n",
       " 5: 'housing',\n",
       " 6: 'contact',\n",
       " 7: 'day',\n",
       " 8: 'duration',\n",
       " 9: 'campaign',\n",
       " 10: 'job_new',\n",
       " 11: 'age_binned',\n",
       " 12: 'month_bin',\n",
       " 13: 'week',\n",
       " 14: 'balance_binned',\n",
       " 15: 'sq_balance',\n",
       " 16: 'cube_balance',\n",
       " 17: 'cbrt_balance',\n",
       " 18: 'sin_balance',\n",
       " 19: 'cos_balance'}"
      ]
     },
     "execution_count": 75,
     "metadata": {},
     "output_type": "execute_result"
    }
   ],
   "source": [
    "{X.columns.get_loc(c): c for idx, c in enumerate(X.columns)}\n"
   ]
  },
  {
   "cell_type": "code",
   "execution_count": 76,
   "id": "3383c96b",
   "metadata": {},
   "outputs": [],
   "source": [
    "# redefining bal\n",
    "bal = X.iloc[:, 15:20].copy() \n",
    "# y=df['y']\n"
   ]
  },
  {
   "cell_type": "code",
   "execution_count": 77,
   "id": "43f8cfb1",
   "metadata": {},
   "outputs": [
    {
     "name": "stderr",
     "output_type": "stream",
     "text": [
      "C:\\ProgramData\\Anaconda3\\lib\\site-packages\\sklearn\\utils\\validation.py:63: DataConversionWarning: A column-vector y was passed when a 1d array was expected. Please change the shape of y to (n_samples, ), for example using ravel().\n",
      "  return f(*args, **kwargs)\n"
     ]
    },
    {
     "data": {
      "text/html": [
       "<div>\n",
       "<style scoped>\n",
       "    .dataframe tbody tr th:only-of-type {\n",
       "        vertical-align: middle;\n",
       "    }\n",
       "\n",
       "    .dataframe tbody tr th {\n",
       "        vertical-align: top;\n",
       "    }\n",
       "\n",
       "    .dataframe thead th {\n",
       "        text-align: right;\n",
       "    }\n",
       "</style>\n",
       "<table border=\"1\" class=\"dataframe\">\n",
       "  <thead>\n",
       "    <tr style=\"text-align: right;\">\n",
       "      <th></th>\n",
       "      <th>Feature_Name</th>\n",
       "      <th>Score</th>\n",
       "    </tr>\n",
       "  </thead>\n",
       "  <tbody>\n",
       "    <tr>\n",
       "      <th>2</th>\n",
       "      <td>cbrt_balance</td>\n",
       "      <td>431.248040</td>\n",
       "    </tr>\n",
       "    <tr>\n",
       "      <th>0</th>\n",
       "      <td>sq_balance</td>\n",
       "      <td>54.742658</td>\n",
       "    </tr>\n",
       "    <tr>\n",
       "      <th>1</th>\n",
       "      <td>cube_balance</td>\n",
       "      <td>23.982732</td>\n",
       "    </tr>\n",
       "    <tr>\n",
       "      <th>4</th>\n",
       "      <td>cos_balance</td>\n",
       "      <td>19.741261</td>\n",
       "    </tr>\n",
       "    <tr>\n",
       "      <th>3</th>\n",
       "      <td>sin_balance</td>\n",
       "      <td>0.029843</td>\n",
       "    </tr>\n",
       "  </tbody>\n",
       "</table>\n",
       "</div>"
      ],
      "text/plain": [
       "   Feature_Name       Score\n",
       "2  cbrt_balance  431.248040\n",
       "0    sq_balance   54.742658\n",
       "1  cube_balance   23.982732\n",
       "4   cos_balance   19.741261\n",
       "3   sin_balance    0.029843"
      ]
     },
     "execution_count": 77,
     "metadata": {},
     "output_type": "execute_result"
    }
   ],
   "source": [
    "best_features = SelectKBest(score_func=f_classif, k=1)\n",
    "fit_b = best_features.fit(bal,y)\n",
    "X_scores = pd.DataFrame(fit_b.scores_)\n",
    "X_columns = pd.DataFrame(bal.columns)\n",
    "\n",
    "feature_scores = pd.concat([X_columns, X_scores],axis=1)\n",
    "feature_scores.columns = ['Feature_Name','Score']  \n",
    "res_bal= feature_scores.nlargest(5,'Score') \n",
    "res_bal"
   ]
  },
  {
   "cell_type": "code",
   "execution_count": 78,
   "id": "367d9e69",
   "metadata": {},
   "outputs": [
    {
     "data": {
      "text/plain": [
       "<AxesSubplot:xlabel='Feature_Name', ylabel='Score'>"
      ]
     },
     "execution_count": 78,
     "metadata": {},
     "output_type": "execute_result"
    },
    {
     "data": {
      "image/png": "[encoded data removed]",
      "text/plain": [
       "<Figure size 432x288 with 1 Axes>"
      ]
     },
     "metadata": {
      "needs_background": "light"
     },
     "output_type": "display_data"
    }
   ],
   "source": [
    "sns.barplot(data=res_bal, x= 'Feature_Name', y='Score')"
   ]
  },
  {
   "cell_type": "code",
   "execution_count": 79,
   "id": "63c6b54d",
   "metadata": {},
   "outputs": [],
   "source": [
    "# as cbrt has the highest score, we will keep and drop rest of the columns\n",
    "X.drop('sq_balance', axis=1, inplace=True)\n",
    "X.drop('cube_balance', axis=1, inplace=True)\n",
    "X.drop('cos_balance', axis=1, inplace=True)\n",
    "X.drop('sin_balance', axis=1, inplace=True)\n",
    "\n",
    "\n"
   ]
  },
  {
   "cell_type": "code",
   "execution_count": 80,
   "id": "3984ed2e",
   "metadata": {},
   "outputs": [
    {
     "data": {
      "text/plain": [
       "Index(['age', 'job', 'marital', 'education', 'balance', 'housing', 'contact',\n",
       "       'day', 'duration', 'campaign', 'job_new', 'age_binned', 'month_bin',\n",
       "       'week', 'balance_binned', 'cbrt_balance'],\n",
       "      dtype='object')"
      ]
     },
     "execution_count": 80,
     "metadata": {},
     "output_type": "execute_result"
    }
   ],
   "source": [
    "X.columns"
   ]
  },
  {
   "cell_type": "markdown",
   "id": "68d6f288",
   "metadata": {},
   "source": [
    "# duration"
   ]
  },
  {
   "cell_type": "code",
   "execution_count": 81,
   "id": "22a8d1f9",
   "metadata": {},
   "outputs": [
    {
     "name": "stderr",
     "output_type": "stream",
     "text": [
      "C:\\ProgramData\\Anaconda3\\lib\\site-packages\\pandas\\core\\arraylike.py:358: RuntimeWarning: overflow encountered in exp\n",
      "  result = getattr(ufunc, method)(*inputs, **kwargs)\n"
     ]
    }
   ],
   "source": [
    "X['inv_duration']= np.reciprocal(X.duration)\n",
    "X['sq_duration'] = np.square(X.duration)\n",
    "X['cube_duration'] = np.power(X.duration,3)\n",
    "X['sqrt_duration'] = np.sqrt(X.duration)\n",
    "X['cbrt_duration'] = np.cbrt(X.duration)\n",
    "X['sin_duration'] = np.sin(X.duration)\n",
    "X['cos_duration'] = np.cos(X.duration)\n",
    "X['exp_duration'] = np.exp(X.duration)\n",
    "\n",
    "\n",
    "\n",
    "\n"
   ]
  },
  {
   "cell_type": "code",
   "execution_count": 82,
   "id": "63bb853a",
   "metadata": {},
   "outputs": [
    {
     "data": {
      "text/plain": [
       "{0: 'age',\n",
       " 1: 'job',\n",
       " 2: 'marital',\n",
       " 3: 'education',\n",
       " 4: 'balance',\n",
       " 5: 'housing',\n",
       " 6: 'contact',\n",
       " 7: 'day',\n",
       " 8: 'duration',\n",
       " 9: 'campaign',\n",
       " 10: 'job_new',\n",
       " 11: 'age_binned',\n",
       " 12: 'month_bin',\n",
       " 13: 'week',\n",
       " 14: 'balance_binned',\n",
       " 15: 'cbrt_balance',\n",
       " 16: 'inv_duration',\n",
       " 17: 'sq_duration',\n",
       " 18: 'cube_duration',\n",
       " 19: 'sqrt_duration',\n",
       " 20: 'cbrt_duration',\n",
       " 21: 'sin_duration',\n",
       " 22: 'cos_duration',\n",
       " 23: 'exp_duration'}"
      ]
     },
     "execution_count": 82,
     "metadata": {},
     "output_type": "execute_result"
    }
   ],
   "source": [
    "{X.columns.get_loc(c): c for idx, c in enumerate(X.columns)}\n"
   ]
  },
  {
   "cell_type": "code",
   "execution_count": null,
   "id": "03f4ad95",
   "metadata": {},
   "outputs": [],
   "source": []
  },
  {
   "cell_type": "code",
   "execution_count": 83,
   "id": "e69c7e9d",
   "metadata": {},
   "outputs": [],
   "source": [
    "dur = X.iloc[:, 16:24].copy() # To avoid the case where changing df1 also changes df\n"
   ]
  },
  {
   "cell_type": "code",
   "execution_count": 84,
   "id": "84b0a2e3",
   "metadata": {},
   "outputs": [
    {
     "data": {
      "text/html": [
       "<div>\n",
       "<style scoped>\n",
       "    .dataframe tbody tr th:only-of-type {\n",
       "        vertical-align: middle;\n",
       "    }\n",
       "\n",
       "    .dataframe tbody tr th {\n",
       "        vertical-align: top;\n",
       "    }\n",
       "\n",
       "    .dataframe thead th {\n",
       "        text-align: right;\n",
       "    }\n",
       "</style>\n",
       "<table border=\"1\" class=\"dataframe\">\n",
       "  <thead>\n",
       "    <tr style=\"text-align: right;\">\n",
       "      <th></th>\n",
       "      <th>inv_duration</th>\n",
       "      <th>sq_duration</th>\n",
       "      <th>cube_duration</th>\n",
       "      <th>sqrt_duration</th>\n",
       "      <th>cbrt_duration</th>\n",
       "      <th>sin_duration</th>\n",
       "      <th>cos_duration</th>\n",
       "      <th>exp_duration</th>\n",
       "    </tr>\n",
       "  </thead>\n",
       "  <tbody>\n",
       "    <tr>\n",
       "      <th>count</th>\n",
       "      <td>45211.0</td>\n",
       "      <td>4.521100e+04</td>\n",
       "      <td>4.521100e+04</td>\n",
       "      <td>45211.000000</td>\n",
       "      <td>45211.000000</td>\n",
       "      <td>45211.000000</td>\n",
       "      <td>45211.000000</td>\n",
       "      <td>4.521100e+04</td>\n",
       "    </tr>\n",
       "    <tr>\n",
       "      <th>mean</th>\n",
       "      <td>0.0</td>\n",
       "      <td>1.198273e+05</td>\n",
       "      <td>8.540109e+07</td>\n",
       "      <td>14.591315</td>\n",
       "      <td>5.846660</td>\n",
       "      <td>-0.012354</td>\n",
       "      <td>0.013828</td>\n",
       "      <td>inf</td>\n",
       "    </tr>\n",
       "    <tr>\n",
       "      <th>std</th>\n",
       "      <td>0.0</td>\n",
       "      <td>2.502038e+05</td>\n",
       "      <td>2.808045e+08</td>\n",
       "      <td>6.439755</td>\n",
       "      <td>1.719330</td>\n",
       "      <td>0.707191</td>\n",
       "      <td>0.706795</td>\n",
       "      <td>NaN</td>\n",
       "    </tr>\n",
       "    <tr>\n",
       "      <th>min</th>\n",
       "      <td>0.0</td>\n",
       "      <td>1.210000e+02</td>\n",
       "      <td>1.331000e+03</td>\n",
       "      <td>3.316625</td>\n",
       "      <td>2.223980</td>\n",
       "      <td>-0.999991</td>\n",
       "      <td>-1.000000</td>\n",
       "      <td>5.987414e+04</td>\n",
       "    </tr>\n",
       "    <tr>\n",
       "      <th>25%</th>\n",
       "      <td>0.0</td>\n",
       "      <td>1.060900e+04</td>\n",
       "      <td>1.092727e+06</td>\n",
       "      <td>10.148892</td>\n",
       "      <td>4.687548</td>\n",
       "      <td>-0.714876</td>\n",
       "      <td>-0.692896</td>\n",
       "      <td>5.399228e+44</td>\n",
       "    </tr>\n",
       "    <tr>\n",
       "      <th>50%</th>\n",
       "      <td>0.0</td>\n",
       "      <td>3.240000e+04</td>\n",
       "      <td>5.832000e+06</td>\n",
       "      <td>13.416408</td>\n",
       "      <td>5.646216</td>\n",
       "      <td>-0.044243</td>\n",
       "      <td>0.004426</td>\n",
       "      <td>1.489384e+78</td>\n",
       "    </tr>\n",
       "    <tr>\n",
       "      <th>75%</th>\n",
       "      <td>0.0</td>\n",
       "      <td>1.017610e+05</td>\n",
       "      <td>3.246176e+07</td>\n",
       "      <td>17.860571</td>\n",
       "      <td>6.832771</td>\n",
       "      <td>0.696080</td>\n",
       "      <td>0.717964</td>\n",
       "      <td>3.466887e+138</td>\n",
       "    </tr>\n",
       "    <tr>\n",
       "      <th>max</th>\n",
       "      <td>0.0</td>\n",
       "      <td>1.610361e+06</td>\n",
       "      <td>2.043548e+09</td>\n",
       "      <td>35.623026</td>\n",
       "      <td>10.826478</td>\n",
       "      <td>0.999990</td>\n",
       "      <td>1.000000</td>\n",
       "      <td>inf</td>\n",
       "    </tr>\n",
       "  </tbody>\n",
       "</table>\n",
       "</div>"
      ],
      "text/plain": [
       "       inv_duration   sq_duration  cube_duration  sqrt_duration  \\\n",
       "count       45211.0  4.521100e+04   4.521100e+04   45211.000000   \n",
       "mean            0.0  1.198273e+05   8.540109e+07      14.591315   \n",
       "std             0.0  2.502038e+05   2.808045e+08       6.439755   \n",
       "min             0.0  1.210000e+02   1.331000e+03       3.316625   \n",
       "25%             0.0  1.060900e+04   1.092727e+06      10.148892   \n",
       "50%             0.0  3.240000e+04   5.832000e+06      13.416408   \n",
       "75%             0.0  1.017610e+05   3.246176e+07      17.860571   \n",
       "max             0.0  1.610361e+06   2.043548e+09      35.623026   \n",
       "\n",
       "       cbrt_duration  sin_duration  cos_duration   exp_duration  \n",
       "count   45211.000000  45211.000000  45211.000000   4.521100e+04  \n",
       "mean        5.846660     -0.012354      0.013828            inf  \n",
       "std         1.719330      0.707191      0.706795            NaN  \n",
       "min         2.223980     -0.999991     -1.000000   5.987414e+04  \n",
       "25%         4.687548     -0.714876     -0.692896   5.399228e+44  \n",
       "50%         5.646216     -0.044243      0.004426   1.489384e+78  \n",
       "75%         6.832771      0.696080      0.717964  3.466887e+138  \n",
       "max        10.826478      0.999990      1.000000            inf  "
      ]
     },
     "execution_count": 84,
     "metadata": {},
     "output_type": "execute_result"
    }
   ],
   "source": [
    "dur.describe()"
   ]
  },
  {
   "cell_type": "code",
   "execution_count": 85,
   "id": "f6eb2b5b",
   "metadata": {},
   "outputs": [],
   "source": [
    "# dropping the columns with infinite values\n",
    "X.drop('inv_duration', axis=1, inplace=True)\n",
    "X.drop('exp_duration', axis=1, inplace=True)\n"
   ]
  },
  {
   "cell_type": "code",
   "execution_count": 86,
   "id": "82ab8939",
   "metadata": {},
   "outputs": [
    {
     "data": {
      "text/plain": [
       "{0: 'age',\n",
       " 1: 'job',\n",
       " 2: 'marital',\n",
       " 3: 'education',\n",
       " 4: 'balance',\n",
       " 5: 'housing',\n",
       " 6: 'contact',\n",
       " 7: 'day',\n",
       " 8: 'duration',\n",
       " 9: 'campaign',\n",
       " 10: 'job_new',\n",
       " 11: 'age_binned',\n",
       " 12: 'month_bin',\n",
       " 13: 'week',\n",
       " 14: 'balance_binned',\n",
       " 15: 'cbrt_balance',\n",
       " 16: 'sq_duration',\n",
       " 17: 'cube_duration',\n",
       " 18: 'sqrt_duration',\n",
       " 19: 'cbrt_duration',\n",
       " 20: 'sin_duration',\n",
       " 21: 'cos_duration'}"
      ]
     },
     "execution_count": 86,
     "metadata": {},
     "output_type": "execute_result"
    }
   ],
   "source": [
    "{X.columns.get_loc(c): c for idx, c in enumerate(X.columns)}\n"
   ]
  },
  {
   "cell_type": "code",
   "execution_count": 87,
   "id": "42a8fe9e",
   "metadata": {},
   "outputs": [],
   "source": [
    "# redefining dur\n",
    "dur = X.iloc[:, 16:22].copy() \n"
   ]
  },
  {
   "cell_type": "code",
   "execution_count": 88,
   "id": "c67b97e4",
   "metadata": {},
   "outputs": [
    {
     "data": {
      "text/html": [
       "<div>\n",
       "<style scoped>\n",
       "    .dataframe tbody tr th:only-of-type {\n",
       "        vertical-align: middle;\n",
       "    }\n",
       "\n",
       "    .dataframe tbody tr th {\n",
       "        vertical-align: top;\n",
       "    }\n",
       "\n",
       "    .dataframe thead th {\n",
       "        text-align: right;\n",
       "    }\n",
       "</style>\n",
       "<table border=\"1\" class=\"dataframe\">\n",
       "  <thead>\n",
       "    <tr style=\"text-align: right;\">\n",
       "      <th></th>\n",
       "      <th>sq_duration</th>\n",
       "      <th>cube_duration</th>\n",
       "      <th>sqrt_duration</th>\n",
       "      <th>cbrt_duration</th>\n",
       "      <th>sin_duration</th>\n",
       "      <th>cos_duration</th>\n",
       "    </tr>\n",
       "  </thead>\n",
       "  <tbody>\n",
       "    <tr>\n",
       "      <th>0</th>\n",
       "      <td>68121</td>\n",
       "      <td>17779581</td>\n",
       "      <td>16.155494</td>\n",
       "      <td>6.390677</td>\n",
       "      <td>-0.245281</td>\n",
       "      <td>-0.969452</td>\n",
       "    </tr>\n",
       "    <tr>\n",
       "      <th>1</th>\n",
       "      <td>22801</td>\n",
       "      <td>3442951</td>\n",
       "      <td>12.288206</td>\n",
       "      <td>5.325074</td>\n",
       "      <td>0.202150</td>\n",
       "      <td>0.979355</td>\n",
       "    </tr>\n",
       "    <tr>\n",
       "      <th>2</th>\n",
       "      <td>5776</td>\n",
       "      <td>438976</td>\n",
       "      <td>8.717798</td>\n",
       "      <td>4.235824</td>\n",
       "      <td>0.566108</td>\n",
       "      <td>0.824331</td>\n",
       "    </tr>\n",
       "    <tr>\n",
       "      <th>3</th>\n",
       "      <td>8464</td>\n",
       "      <td>778688</td>\n",
       "      <td>9.591663</td>\n",
       "      <td>4.514357</td>\n",
       "      <td>-0.779466</td>\n",
       "      <td>-0.626444</td>\n",
       "    </tr>\n",
       "    <tr>\n",
       "      <th>4</th>\n",
       "      <td>39204</td>\n",
       "      <td>7762392</td>\n",
       "      <td>14.071247</td>\n",
       "      <td>5.828477</td>\n",
       "      <td>-0.079579</td>\n",
       "      <td>-0.996829</td>\n",
       "    </tr>\n",
       "    <tr>\n",
       "      <th>...</th>\n",
       "      <td>...</td>\n",
       "      <td>...</td>\n",
       "      <td>...</td>\n",
       "      <td>...</td>\n",
       "      <td>...</td>\n",
       "      <td>...</td>\n",
       "    </tr>\n",
       "    <tr>\n",
       "      <th>45206</th>\n",
       "      <td>954529</td>\n",
       "      <td>932574833</td>\n",
       "      <td>31.256999</td>\n",
       "      <td>9.922738</td>\n",
       "      <td>0.035308</td>\n",
       "      <td>-0.999376</td>\n",
       "    </tr>\n",
       "    <tr>\n",
       "      <th>45207</th>\n",
       "      <td>207936</td>\n",
       "      <td>94818816</td>\n",
       "      <td>21.354157</td>\n",
       "      <td>7.697002</td>\n",
       "      <td>-0.452053</td>\n",
       "      <td>-0.891991</td>\n",
       "    </tr>\n",
       "    <tr>\n",
       "      <th>45208</th>\n",
       "      <td>1270129</td>\n",
       "      <td>1431435383</td>\n",
       "      <td>33.570821</td>\n",
       "      <td>10.406579</td>\n",
       "      <td>0.739120</td>\n",
       "      <td>-0.673574</td>\n",
       "    </tr>\n",
       "    <tr>\n",
       "      <th>45209</th>\n",
       "      <td>258064</td>\n",
       "      <td>131096512</td>\n",
       "      <td>22.538855</td>\n",
       "      <td>7.979112</td>\n",
       "      <td>-0.806383</td>\n",
       "      <td>0.591394</td>\n",
       "    </tr>\n",
       "    <tr>\n",
       "      <th>45210</th>\n",
       "      <td>130321</td>\n",
       "      <td>47045881</td>\n",
       "      <td>19.000000</td>\n",
       "      <td>7.120367</td>\n",
       "      <td>0.279387</td>\n",
       "      <td>-0.960179</td>\n",
       "    </tr>\n",
       "  </tbody>\n",
       "</table>\n",
       "<p>45211 rows × 6 columns</p>\n",
       "</div>"
      ],
      "text/plain": [
       "       sq_duration  cube_duration  sqrt_duration  cbrt_duration  sin_duration  \\\n",
       "0            68121       17779581      16.155494       6.390677     -0.245281   \n",
       "1            22801        3442951      12.288206       5.325074      0.202150   \n",
       "2             5776         438976       8.717798       4.235824      0.566108   \n",
       "3             8464         778688       9.591663       4.514357     -0.779466   \n",
       "4            39204        7762392      14.071247       5.828477     -0.079579   \n",
       "...            ...            ...            ...            ...           ...   \n",
       "45206       954529      932574833      31.256999       9.922738      0.035308   \n",
       "45207       207936       94818816      21.354157       7.697002     -0.452053   \n",
       "45208      1270129     1431435383      33.570821      10.406579      0.739120   \n",
       "45209       258064      131096512      22.538855       7.979112     -0.806383   \n",
       "45210       130321       47045881      19.000000       7.120367      0.279387   \n",
       "\n",
       "       cos_duration  \n",
       "0         -0.969452  \n",
       "1          0.979355  \n",
       "2          0.824331  \n",
       "3         -0.626444  \n",
       "4         -0.996829  \n",
       "...             ...  \n",
       "45206     -0.999376  \n",
       "45207     -0.891991  \n",
       "45208     -0.673574  \n",
       "45209      0.591394  \n",
       "45210     -0.960179  \n",
       "\n",
       "[45211 rows x 6 columns]"
      ]
     },
     "execution_count": 88,
     "metadata": {},
     "output_type": "execute_result"
    }
   ],
   "source": [
    "dur\n"
   ]
  },
  {
   "cell_type": "code",
   "execution_count": 89,
   "id": "7b1096e1",
   "metadata": {},
   "outputs": [
    {
     "name": "stdout",
     "output_type": "stream",
     "text": [
      "               0\n",
      "0    sq_duration\n",
      "1  cube_duration\n",
      "2  sqrt_duration\n",
      "3  cbrt_duration\n",
      "4   sin_duration\n",
      "5   cos_duration\n",
      "               0            0\n",
      "0    sq_duration  7665.137150\n",
      "1  cube_duration  5742.731509\n",
      "2  sqrt_duration  8381.112486\n",
      "3  cbrt_duration  7754.967814\n",
      "4   sin_duration     0.570388\n",
      "5   cos_duration    19.012119\n"
     ]
    },
    {
     "name": "stderr",
     "output_type": "stream",
     "text": [
      "C:\\ProgramData\\Anaconda3\\lib\\site-packages\\sklearn\\utils\\validation.py:63: DataConversionWarning: A column-vector y was passed when a 1d array was expected. Please change the shape of y to (n_samples, ), for example using ravel().\n",
      "  return f(*args, **kwargs)\n"
     ]
    },
    {
     "data": {
      "text/html": [
       "<div>\n",
       "<style scoped>\n",
       "    .dataframe tbody tr th:only-of-type {\n",
       "        vertical-align: middle;\n",
       "    }\n",
       "\n",
       "    .dataframe tbody tr th {\n",
       "        vertical-align: top;\n",
       "    }\n",
       "\n",
       "    .dataframe thead th {\n",
       "        text-align: right;\n",
       "    }\n",
       "</style>\n",
       "<table border=\"1\" class=\"dataframe\">\n",
       "  <thead>\n",
       "    <tr style=\"text-align: right;\">\n",
       "      <th></th>\n",
       "      <th>Feature_Name1</th>\n",
       "      <th>Score1</th>\n",
       "    </tr>\n",
       "  </thead>\n",
       "  <tbody>\n",
       "    <tr>\n",
       "      <th>2</th>\n",
       "      <td>sqrt_duration</td>\n",
       "      <td>8381.112486</td>\n",
       "    </tr>\n",
       "    <tr>\n",
       "      <th>3</th>\n",
       "      <td>cbrt_duration</td>\n",
       "      <td>7754.967814</td>\n",
       "    </tr>\n",
       "    <tr>\n",
       "      <th>0</th>\n",
       "      <td>sq_duration</td>\n",
       "      <td>7665.137150</td>\n",
       "    </tr>\n",
       "    <tr>\n",
       "      <th>1</th>\n",
       "      <td>cube_duration</td>\n",
       "      <td>5742.731509</td>\n",
       "    </tr>\n",
       "    <tr>\n",
       "      <th>5</th>\n",
       "      <td>cos_duration</td>\n",
       "      <td>19.012119</td>\n",
       "    </tr>\n",
       "    <tr>\n",
       "      <th>4</th>\n",
       "      <td>sin_duration</td>\n",
       "      <td>0.570388</td>\n",
       "    </tr>\n",
       "  </tbody>\n",
       "</table>\n",
       "</div>"
      ],
      "text/plain": [
       "   Feature_Name1       Score1\n",
       "2  sqrt_duration  8381.112486\n",
       "3  cbrt_duration  7754.967814\n",
       "0    sq_duration  7665.137150\n",
       "1  cube_duration  5742.731509\n",
       "5   cos_duration    19.012119\n",
       "4   sin_duration     0.570388"
      ]
     },
     "execution_count": 89,
     "metadata": {},
     "output_type": "execute_result"
    }
   ],
   "source": [
    "# best_features = SelectKBest(score_func=f_classif, k=1)\n",
    "# fit = best_features.fit(dur,y)\n",
    "# X_scores_d = pd.DataFrame(fit.scores_)\n",
    "# X_columns_d = pd.DataFrame(dur.columns)\n",
    "\n",
    "# feature_scores_dur = pd.concat([X_columns_d, X_scores_d],axis=1)\n",
    "# feature_scores.columns = ['F\n",
    "\n",
    "best_features = SelectKBest(score_func=f_classif, k=1)\n",
    "fit_d = best_features.fit(dur,y)\n",
    "X_scores1 = pd.DataFrame(fit_d.scores_)\n",
    "X_columns1 = pd.DataFrame(dur.columns)\n",
    "print(X_columns1)\n",
    "\n",
    "feature_scores1 = pd.concat([X_columns1, X_scores1],axis=1)\n",
    "print(feature_scores1)\n",
    "feature_scores1.columns = ['Feature_Name1','Score1']  \n",
    "res_dur= feature_scores1.nlargest(6,'Score1') \n",
    "res_dur\n"
   ]
  },
  {
   "cell_type": "code",
   "execution_count": 90,
   "id": "62ec82ea",
   "metadata": {},
   "outputs": [
    {
     "data": {
      "text/plain": [
       "<AxesSubplot:xlabel='Feature_Name1', ylabel='Score1'>"
      ]
     },
     "execution_count": 90,
     "metadata": {},
     "output_type": "execute_result"
    },
    {
     "data": {
      "image/png": "[encoded data removed]",
      "text/plain": [
       "<Figure size 432x288 with 1 Axes>"
      ]
     },
     "metadata": {
      "needs_background": "light"
     },
     "output_type": "display_data"
    }
   ],
   "source": [
    "sns.barplot(data=res_dur, x= 'Feature_Name1', y='Score1')"
   ]
  },
  {
   "cell_type": "code",
   "execution_count": 91,
   "id": "88cc908d",
   "metadata": {},
   "outputs": [],
   "source": [
    "# as cbrt has the highest score, we will keep and drop rest of the columns\n",
    "X.drop('cos_duration', axis=1, inplace=True)\n",
    "X.drop('sin_duration', axis=1, inplace=True)\n"
   ]
  },
  {
   "cell_type": "code",
   "execution_count": 92,
   "id": "436859e6",
   "metadata": {},
   "outputs": [
    {
     "data": {
      "text/plain": [
       "Index(['age', 'job', 'marital', 'education', 'balance', 'housing', 'contact',\n",
       "       'day', 'duration', 'campaign', 'job_new', 'age_binned', 'month_bin',\n",
       "       'week', 'balance_binned', 'cbrt_balance', 'sq_duration',\n",
       "       'cube_duration', 'sqrt_duration', 'cbrt_duration'],\n",
       "      dtype='object')"
      ]
     },
     "execution_count": 92,
     "metadata": {},
     "output_type": "execute_result"
    }
   ],
   "source": [
    "X.shape\n",
    "X.columns"
   ]
  },
  {
   "cell_type": "markdown",
   "id": "22a34ae7",
   "metadata": {},
   "source": [
    "# Data preparation"
   ]
  },
  {
   "cell_type": "markdown",
   "id": "f0ad2bd0",
   "metadata": {},
   "source": [
    "## Balance"
   ]
  },
  {
   "cell_type": "code",
   "execution_count": null,
   "id": "08850cc9",
   "metadata": {},
   "outputs": [],
   "source": []
  },
  {
   "cell_type": "code",
   "execution_count": 93,
   "id": "2ac3098d",
   "metadata": {},
   "outputs": [
    {
     "data": {
      "text/plain": [
       "['job',\n",
       " 'marital',\n",
       " 'education',\n",
       " 'housing',\n",
       " 'contact',\n",
       " 'job_new',\n",
       " 'month_bin',\n",
       " 'week']"
      ]
     },
     "execution_count": 93,
     "metadata": {},
     "output_type": "execute_result"
    }
   ],
   "source": [
    "cat= X.select_dtypes(include=['object']).columns.tolist()\n",
    "cat"
   ]
  },
  {
   "cell_type": "code",
   "execution_count": 94,
   "id": "2fad7fcc",
   "metadata": {},
   "outputs": [
    {
     "data": {
      "text/html": [
       "<div>\n",
       "<style scoped>\n",
       "    .dataframe tbody tr th:only-of-type {\n",
       "        vertical-align: middle;\n",
       "    }\n",
       "\n",
       "    .dataframe tbody tr th {\n",
       "        vertical-align: top;\n",
       "    }\n",
       "\n",
       "    .dataframe thead th {\n",
       "        text-align: right;\n",
       "    }\n",
       "</style>\n",
       "<table border=\"1\" class=\"dataframe\">\n",
       "  <thead>\n",
       "    <tr style=\"text-align: right;\">\n",
       "      <th></th>\n",
       "      <th>age</th>\n",
       "      <th>balance</th>\n",
       "      <th>day</th>\n",
       "      <th>duration</th>\n",
       "      <th>campaign</th>\n",
       "      <th>age_binned</th>\n",
       "      <th>balance_binned</th>\n",
       "      <th>cbrt_balance</th>\n",
       "      <th>sq_duration</th>\n",
       "      <th>cube_duration</th>\n",
       "      <th>...</th>\n",
       "      <th>job_new_technician</th>\n",
       "      <th>job_new_unemployed</th>\n",
       "      <th>month_bin_quarter 1</th>\n",
       "      <th>month_bin_quarter 2</th>\n",
       "      <th>month_bin_quarter 3</th>\n",
       "      <th>month_bin_quarter 4</th>\n",
       "      <th>week_week_1</th>\n",
       "      <th>week_week_2</th>\n",
       "      <th>week_week_3</th>\n",
       "      <th>week_week_4</th>\n",
       "    </tr>\n",
       "  </thead>\n",
       "  <tbody>\n",
       "    <tr>\n",
       "      <th>0</th>\n",
       "      <td>58</td>\n",
       "      <td>2143.0</td>\n",
       "      <td>5</td>\n",
       "      <td>261</td>\n",
       "      <td>1</td>\n",
       "      <td>(50, 80]</td>\n",
       "      <td>(2000, 14000]</td>\n",
       "      <td>12.892606</td>\n",
       "      <td>68121</td>\n",
       "      <td>17779581</td>\n",
       "      <td>...</td>\n",
       "      <td>0</td>\n",
       "      <td>0</td>\n",
       "      <td>1</td>\n",
       "      <td>0</td>\n",
       "      <td>0</td>\n",
       "      <td>0</td>\n",
       "      <td>1</td>\n",
       "      <td>0</td>\n",
       "      <td>0</td>\n",
       "      <td>0</td>\n",
       "    </tr>\n",
       "    <tr>\n",
       "      <th>1</th>\n",
       "      <td>44</td>\n",
       "      <td>29.0</td>\n",
       "      <td>5</td>\n",
       "      <td>151</td>\n",
       "      <td>1</td>\n",
       "      <td>(40, 45]</td>\n",
       "      <td>(0, 500]</td>\n",
       "      <td>3.072317</td>\n",
       "      <td>22801</td>\n",
       "      <td>3442951</td>\n",
       "      <td>...</td>\n",
       "      <td>1</td>\n",
       "      <td>0</td>\n",
       "      <td>1</td>\n",
       "      <td>0</td>\n",
       "      <td>0</td>\n",
       "      <td>0</td>\n",
       "      <td>1</td>\n",
       "      <td>0</td>\n",
       "      <td>0</td>\n",
       "      <td>0</td>\n",
       "    </tr>\n",
       "    <tr>\n",
       "      <th>2</th>\n",
       "      <td>33</td>\n",
       "      <td>2.0</td>\n",
       "      <td>5</td>\n",
       "      <td>76</td>\n",
       "      <td>1</td>\n",
       "      <td>(30, 35]</td>\n",
       "      <td>(0, 500]</td>\n",
       "      <td>1.259921</td>\n",
       "      <td>5776</td>\n",
       "      <td>438976</td>\n",
       "      <td>...</td>\n",
       "      <td>0</td>\n",
       "      <td>0</td>\n",
       "      <td>1</td>\n",
       "      <td>0</td>\n",
       "      <td>0</td>\n",
       "      <td>0</td>\n",
       "      <td>1</td>\n",
       "      <td>0</td>\n",
       "      <td>0</td>\n",
       "      <td>0</td>\n",
       "    </tr>\n",
       "    <tr>\n",
       "      <th>3</th>\n",
       "      <td>47</td>\n",
       "      <td>1506.0</td>\n",
       "      <td>5</td>\n",
       "      <td>92</td>\n",
       "      <td>1</td>\n",
       "      <td>(45, 50]</td>\n",
       "      <td>(500, 2000]</td>\n",
       "      <td>11.462385</td>\n",
       "      <td>8464</td>\n",
       "      <td>778688</td>\n",
       "      <td>...</td>\n",
       "      <td>0</td>\n",
       "      <td>0</td>\n",
       "      <td>1</td>\n",
       "      <td>0</td>\n",
       "      <td>0</td>\n",
       "      <td>0</td>\n",
       "      <td>1</td>\n",
       "      <td>0</td>\n",
       "      <td>0</td>\n",
       "      <td>0</td>\n",
       "    </tr>\n",
       "    <tr>\n",
       "      <th>4</th>\n",
       "      <td>33</td>\n",
       "      <td>1.0</td>\n",
       "      <td>5</td>\n",
       "      <td>198</td>\n",
       "      <td>1</td>\n",
       "      <td>(30, 35]</td>\n",
       "      <td>(0, 500]</td>\n",
       "      <td>1.000000</td>\n",
       "      <td>39204</td>\n",
       "      <td>7762392</td>\n",
       "      <td>...</td>\n",
       "      <td>0</td>\n",
       "      <td>1</td>\n",
       "      <td>1</td>\n",
       "      <td>0</td>\n",
       "      <td>0</td>\n",
       "      <td>0</td>\n",
       "      <td>1</td>\n",
       "      <td>0</td>\n",
       "      <td>0</td>\n",
       "      <td>0</td>\n",
       "    </tr>\n",
       "    <tr>\n",
       "      <th>...</th>\n",
       "      <td>...</td>\n",
       "      <td>...</td>\n",
       "      <td>...</td>\n",
       "      <td>...</td>\n",
       "      <td>...</td>\n",
       "      <td>...</td>\n",
       "      <td>...</td>\n",
       "      <td>...</td>\n",
       "      <td>...</td>\n",
       "      <td>...</td>\n",
       "      <td>...</td>\n",
       "      <td>...</td>\n",
       "      <td>...</td>\n",
       "      <td>...</td>\n",
       "      <td>...</td>\n",
       "      <td>...</td>\n",
       "      <td>...</td>\n",
       "      <td>...</td>\n",
       "      <td>...</td>\n",
       "      <td>...</td>\n",
       "      <td>...</td>\n",
       "    </tr>\n",
       "    <tr>\n",
       "      <th>45206</th>\n",
       "      <td>51</td>\n",
       "      <td>825.0</td>\n",
       "      <td>17</td>\n",
       "      <td>977</td>\n",
       "      <td>3</td>\n",
       "      <td>(50, 80]</td>\n",
       "      <td>(500, 2000]</td>\n",
       "      <td>9.378887</td>\n",
       "      <td>954529</td>\n",
       "      <td>932574833</td>\n",
       "      <td>...</td>\n",
       "      <td>1</td>\n",
       "      <td>0</td>\n",
       "      <td>0</td>\n",
       "      <td>0</td>\n",
       "      <td>1</td>\n",
       "      <td>0</td>\n",
       "      <td>0</td>\n",
       "      <td>0</td>\n",
       "      <td>1</td>\n",
       "      <td>0</td>\n",
       "    </tr>\n",
       "    <tr>\n",
       "      <th>45207</th>\n",
       "      <td>71</td>\n",
       "      <td>1729.0</td>\n",
       "      <td>17</td>\n",
       "      <td>456</td>\n",
       "      <td>2</td>\n",
       "      <td>(50, 80]</td>\n",
       "      <td>(500, 2000]</td>\n",
       "      <td>12.002314</td>\n",
       "      <td>207936</td>\n",
       "      <td>94818816</td>\n",
       "      <td>...</td>\n",
       "      <td>0</td>\n",
       "      <td>0</td>\n",
       "      <td>0</td>\n",
       "      <td>0</td>\n",
       "      <td>1</td>\n",
       "      <td>0</td>\n",
       "      <td>0</td>\n",
       "      <td>0</td>\n",
       "      <td>1</td>\n",
       "      <td>0</td>\n",
       "    </tr>\n",
       "    <tr>\n",
       "      <th>45208</th>\n",
       "      <td>71</td>\n",
       "      <td>5715.0</td>\n",
       "      <td>17</td>\n",
       "      <td>1127</td>\n",
       "      <td>5</td>\n",
       "      <td>(50, 80]</td>\n",
       "      <td>(2000, 14000]</td>\n",
       "      <td>17.878816</td>\n",
       "      <td>1270129</td>\n",
       "      <td>1431435383</td>\n",
       "      <td>...</td>\n",
       "      <td>0</td>\n",
       "      <td>0</td>\n",
       "      <td>0</td>\n",
       "      <td>0</td>\n",
       "      <td>1</td>\n",
       "      <td>0</td>\n",
       "      <td>0</td>\n",
       "      <td>0</td>\n",
       "      <td>1</td>\n",
       "      <td>0</td>\n",
       "    </tr>\n",
       "    <tr>\n",
       "      <th>45209</th>\n",
       "      <td>57</td>\n",
       "      <td>668.0</td>\n",
       "      <td>17</td>\n",
       "      <td>508</td>\n",
       "      <td>4</td>\n",
       "      <td>(50, 80]</td>\n",
       "      <td>(500, 2000]</td>\n",
       "      <td>8.741625</td>\n",
       "      <td>258064</td>\n",
       "      <td>131096512</td>\n",
       "      <td>...</td>\n",
       "      <td>0</td>\n",
       "      <td>0</td>\n",
       "      <td>0</td>\n",
       "      <td>0</td>\n",
       "      <td>1</td>\n",
       "      <td>0</td>\n",
       "      <td>0</td>\n",
       "      <td>0</td>\n",
       "      <td>1</td>\n",
       "      <td>0</td>\n",
       "    </tr>\n",
       "    <tr>\n",
       "      <th>45210</th>\n",
       "      <td>37</td>\n",
       "      <td>2971.0</td>\n",
       "      <td>17</td>\n",
       "      <td>361</td>\n",
       "      <td>2</td>\n",
       "      <td>(35, 40]</td>\n",
       "      <td>(2000, 14000]</td>\n",
       "      <td>14.375873</td>\n",
       "      <td>130321</td>\n",
       "      <td>47045881</td>\n",
       "      <td>...</td>\n",
       "      <td>0</td>\n",
       "      <td>0</td>\n",
       "      <td>0</td>\n",
       "      <td>0</td>\n",
       "      <td>1</td>\n",
       "      <td>0</td>\n",
       "      <td>0</td>\n",
       "      <td>0</td>\n",
       "      <td>1</td>\n",
       "      <td>0</td>\n",
       "    </tr>\n",
       "  </tbody>\n",
       "</table>\n",
       "<p>45211 rows × 52 columns</p>\n",
       "</div>"
      ],
      "text/plain": [
       "       age  balance  day  duration  campaign age_binned balance_binned  \\\n",
       "0       58   2143.0    5       261         1   (50, 80]  (2000, 14000]   \n",
       "1       44     29.0    5       151         1   (40, 45]       (0, 500]   \n",
       "2       33      2.0    5        76         1   (30, 35]       (0, 500]   \n",
       "3       47   1506.0    5        92         1   (45, 50]    (500, 2000]   \n",
       "4       33      1.0    5       198         1   (30, 35]       (0, 500]   \n",
       "...    ...      ...  ...       ...       ...        ...            ...   \n",
       "45206   51    825.0   17       977         3   (50, 80]    (500, 2000]   \n",
       "45207   71   1729.0   17       456         2   (50, 80]    (500, 2000]   \n",
       "45208   71   5715.0   17      1127         5   (50, 80]  (2000, 14000]   \n",
       "45209   57    668.0   17       508         4   (50, 80]    (500, 2000]   \n",
       "45210   37   2971.0   17       361         2   (35, 40]  (2000, 14000]   \n",
       "\n",
       "       cbrt_balance  sq_duration  cube_duration  ...  job_new_technician  \\\n",
       "0         12.892606        68121       17779581  ...                   0   \n",
       "1          3.072317        22801        3442951  ...                   1   \n",
       "2          1.259921         5776         438976  ...                   0   \n",
       "3         11.462385         8464         778688  ...                   0   \n",
       "4          1.000000        39204        7762392  ...                   0   \n",
       "...             ...          ...            ...  ...                 ...   \n",
       "45206      9.378887       954529      932574833  ...                   1   \n",
       "45207     12.002314       207936       94818816  ...                   0   \n",
       "45208     17.878816      1270129     1431435383  ...                   0   \n",
       "45209      8.741625       258064      131096512  ...                   0   \n",
       "45210     14.375873       130321       47045881  ...                   0   \n",
       "\n",
       "       job_new_unemployed  month_bin_quarter 1  month_bin_quarter 2  \\\n",
       "0                       0                    1                    0   \n",
       "1                       0                    1                    0   \n",
       "2                       0                    1                    0   \n",
       "3                       0                    1                    0   \n",
       "4                       1                    1                    0   \n",
       "...                   ...                  ...                  ...   \n",
       "45206                   0                    0                    0   \n",
       "45207                   0                    0                    0   \n",
       "45208                   0                    0                    0   \n",
       "45209                   0                    0                    0   \n",
       "45210                   0                    0                    0   \n",
       "\n",
       "       month_bin_quarter 3  month_bin_quarter 4  week_week_1  week_week_2  \\\n",
       "0                        0                    0            1            0   \n",
       "1                        0                    0            1            0   \n",
       "2                        0                    0            1            0   \n",
       "3                        0                    0            1            0   \n",
       "4                        0                    0            1            0   \n",
       "...                    ...                  ...          ...          ...   \n",
       "45206                    1                    0            0            0   \n",
       "45207                    1                    0            0            0   \n",
       "45208                    1                    0            0            0   \n",
       "45209                    1                    0            0            0   \n",
       "45210                    1                    0            0            0   \n",
       "\n",
       "       week_week_3  week_week_4  \n",
       "0                0            0  \n",
       "1                0            0  \n",
       "2                0            0  \n",
       "3                0            0  \n",
       "4                0            0  \n",
       "...            ...          ...  \n",
       "45206            1            0  \n",
       "45207            1            0  \n",
       "45208            1            0  \n",
       "45209            1            0  \n",
       "45210            1            0  \n",
       "\n",
       "[45211 rows x 52 columns]"
      ]
     },
     "execution_count": 94,
     "metadata": {},
     "output_type": "execute_result"
    }
   ],
   "source": [
    "dum =pd.get_dummies(data=X, columns=['job',\n",
    " 'marital',\n",
    " 'education',\n",
    " 'housing',\n",
    " 'contact',\n",
    " 'job_new',\n",
    " 'month_bin',\n",
    " 'week'], \n",
    ")\n",
    "dum"
   ]
  },
  {
   "cell_type": "code",
   "execution_count": 95,
   "id": "1bd195ba",
   "metadata": {},
   "outputs": [],
   "source": [
    "X = pd.concat([X, dum], axis = 1)\n"
   ]
  },
  {
   "cell_type": "code",
   "execution_count": 96,
   "id": "f71705b5",
   "metadata": {},
   "outputs": [
    {
     "data": {
      "text/plain": [
       "Index(['age', 'job', 'marital', 'education', 'balance', 'housing', 'contact',\n",
       "       'day', 'duration', 'campaign', 'job_new', 'age_binned', 'month_bin',\n",
       "       'week', 'balance_binned', 'cbrt_balance', 'sq_duration',\n",
       "       'cube_duration', 'sqrt_duration', 'cbrt_duration', 'age', 'balance',\n",
       "       'day', 'duration', 'campaign', 'age_binned', 'balance_binned',\n",
       "       'cbrt_balance', 'sq_duration', 'cube_duration', 'sqrt_duration',\n",
       "       'cbrt_duration', 'job_admin.', 'job_blue-collar', 'job_entrepreneur',\n",
       "       'job_housemaid', 'job_management', 'job_retired', 'job_self-employed',\n",
       "       'job_services', 'job_student', 'job_technician', 'job_unemployed',\n",
       "       'job_unknown', 'marital_divorced', 'marital_married', 'marital_single',\n",
       "       'education_primary', 'education_secondary', 'education_tertiary',\n",
       "       'education_unknown', 'housing_no', 'housing_yes', 'contact_cellular',\n",
       "       'contact_telephone', 'contact_unknown', 'job_new_admin.',\n",
       "       'job_new_blue-collar', 'job_new_management', 'job_new_retired',\n",
       "       'job_new_self-employed', 'job_new_services', 'job_new_technician',\n",
       "       'job_new_unemployed', 'month_bin_quarter 1', 'month_bin_quarter 2',\n",
       "       'month_bin_quarter 3', 'month_bin_quarter 4', 'week_week_1',\n",
       "       'week_week_2', 'week_week_3', 'week_week_4'],\n",
       "      dtype='object')"
      ]
     },
     "execution_count": 96,
     "metadata": {},
     "output_type": "execute_result"
    }
   ],
   "source": [
    "X.shape\n",
    "X.columns"
   ]
  },
  {
   "cell_type": "code",
   "execution_count": 97,
   "id": "19c221c9",
   "metadata": {},
   "outputs": [],
   "source": [
    "X.drop(['job',\n",
    " 'marital',\n",
    " 'education',\n",
    " 'housing',\n",
    " 'contact',\n",
    " 'job_new',\n",
    " 'month_bin',\n",
    " 'week']\n",
    ", axis=1, inplace=True)"
   ]
  },
  {
   "cell_type": "code",
   "execution_count": 98,
   "id": "0cfad125",
   "metadata": {},
   "outputs": [
    {
     "data": {
      "text/plain": [
       "(45211, 64)"
      ]
     },
     "execution_count": 98,
     "metadata": {},
     "output_type": "execute_result"
    }
   ],
   "source": [
    "X.shape"
   ]
  },
  {
   "cell_type": "code",
   "execution_count": 99,
   "id": "1ae90092",
   "metadata": {},
   "outputs": [
    {
     "data": {
      "text/plain": [
       "Index(['age', 'balance', 'day', 'duration', 'campaign', 'age_binned',\n",
       "       'balance_binned', 'cbrt_balance', 'sq_duration', 'cube_duration',\n",
       "       'sqrt_duration', 'cbrt_duration', 'age', 'balance', 'day', 'duration',\n",
       "       'campaign', 'age_binned', 'balance_binned', 'cbrt_balance',\n",
       "       'sq_duration', 'cube_duration', 'sqrt_duration', 'cbrt_duration',\n",
       "       'job_admin.', 'job_blue-collar', 'job_entrepreneur', 'job_housemaid',\n",
       "       'job_management', 'job_retired', 'job_self-employed', 'job_services',\n",
       "       'job_student', 'job_technician', 'job_unemployed', 'job_unknown',\n",
       "       'marital_divorced', 'marital_married', 'marital_single',\n",
       "       'education_primary', 'education_secondary', 'education_tertiary',\n",
       "       'education_unknown', 'housing_no', 'housing_yes', 'contact_cellular',\n",
       "       'contact_telephone', 'contact_unknown', 'job_new_admin.',\n",
       "       'job_new_blue-collar', 'job_new_management', 'job_new_retired',\n",
       "       'job_new_self-employed', 'job_new_services', 'job_new_technician',\n",
       "       'job_new_unemployed', 'month_bin_quarter 1', 'month_bin_quarter 2',\n",
       "       'month_bin_quarter 3', 'month_bin_quarter 4', 'week_week_1',\n",
       "       'week_week_2', 'week_week_3', 'week_week_4'],\n",
       "      dtype='object')"
      ]
     },
     "execution_count": 99,
     "metadata": {},
     "output_type": "execute_result"
    }
   ],
   "source": [
    "X.columns"
   ]
  },
  {
   "cell_type": "code",
   "execution_count": 117,
   "id": "7220b2e0",
   "metadata": {},
   "outputs": [],
   "source": [
    "X.drop(['age_binned','balance_binned'], axis=1, inplace=True)"
   ]
  },
  {
   "cell_type": "code",
   "execution_count": 118,
   "id": "c0b0388a",
   "metadata": {},
   "outputs": [],
   "source": [
    "from sklearn.model_selection import train_test_split"
   ]
  },
  {
   "cell_type": "code",
   "execution_count": 119,
   "id": "aed79ec6",
   "metadata": {},
   "outputs": [],
   "source": [
    "X_train,X_test, y_train, y_test = train_test_split(X,y, test_size=0.2, random_state =101)\n",
    "# X_train, X_test, y_train, y_test = train_test_split( X, y, test_size=0.2, random_state=101)\n",
    "# y_train"
   ]
  },
  {
   "cell_type": "code",
   "execution_count": 120,
   "id": "282c3065",
   "metadata": {},
   "outputs": [],
   "source": [
    "from sklearn.tree import DecisionTreeClassifier\n",
    "from sklearn.ensemble import RandomForestClassifier \n",
    "from sklearn.svm import SVC\n",
    "from sklearn.metrics import confusion_matrix\n",
    "from sklearn.metrics import accuracy_score"
   ]
  },
  {
   "cell_type": "code",
   "execution_count": 121,
   "id": "a26cdb41",
   "metadata": {},
   "outputs": [],
   "source": [
    "model_dt = DecisionTreeClassifier()\n",
    "model_rf = RandomForestClassifier()\n",
    "model_svc = SVC()\n"
   ]
  },
  {
   "cell_type": "code",
   "execution_count": 123,
   "id": "3f9f8918",
   "metadata": {},
   "outputs": [],
   "source": [
    "model_dt.fit(X_train, y_train)\n",
    "y_pred_dt =model_dt.predict(X_test)\n",
    "accuracy_dt = accuracy_score(y_test, y_pred_dt)"
   ]
  },
  {
   "cell_type": "code",
   "execution_count": 124,
   "id": "69c686fe",
   "metadata": {},
   "outputs": [
    {
     "name": "stderr",
     "output_type": "stream",
     "text": [
      "<ipython-input-124-b662ffa725fe>:1: DataConversionWarning: A column-vector y was passed when a 1d array was expected. Please change the shape of y to (n_samples,), for example using ravel().\n",
      "  model_rf.fit(X_train, y_train)\n"
     ]
    }
   ],
   "source": [
    "model_rf.fit(X_train, y_train)\n",
    "y_pred_rf =model_rf.predict(X_test)\n",
    "accuracy_rf = accuracy_score(y_test, y_pred_rf)"
   ]
  },
  {
   "cell_type": "code",
   "execution_count": 125,
   "id": "fc3e39e9",
   "metadata": {},
   "outputs": [
    {
     "name": "stderr",
     "output_type": "stream",
     "text": [
      "C:\\ProgramData\\Anaconda3\\lib\\site-packages\\sklearn\\utils\\validation.py:63: DataConversionWarning: A column-vector y was passed when a 1d array was expected. Please change the shape of y to (n_samples, ), for example using ravel().\n",
      "  return f(*args, **kwargs)\n"
     ]
    }
   ],
   "source": [
    "model_svc.fit(X_train, y_train)\n",
    "y_pred_svc =model_svc.predict(X_test)\n",
    "accuracy_svc = accuracy_score(y_test, y_pred_svc)"
   ]
  },
  {
   "cell_type": "code",
   "execution_count": 126,
   "id": "4f09e96c",
   "metadata": {},
   "outputs": [
    {
     "name": "stdout",
     "output_type": "stream",
     "text": [
      "the accuracy for Decision Tree is 0.8607762910538538\n",
      "the accuracy for Random forest is 0.8910759703638174\n",
      "the accuracy for SVM is 0.8877584872276899\n"
     ]
    }
   ],
   "source": [
    "print(f'the accuracy for Decision Tree is {accuracy_dt}')\n",
    "print(f'the accuracy for Random forest is {accuracy_rf}')\n",
    "print(f'the accuracy for SVM is {accuracy_svc}')\n"
   ]
  },
  {
   "cell_type": "code",
   "execution_count": 127,
   "id": "b01f7c8c",
   "metadata": {},
   "outputs": [],
   "source": [
    "cm_dt= (confusion_matrix(y_test, y_pred_dt))\n",
    "cm_rf= (confusion_matrix(y_test, y_pred_rf))\n",
    "cm_svc= (confusion_matrix(y_test, y_pred_svc))"
   ]
  },
  {
   "cell_type": "code",
   "execution_count": 131,
   "id": "b578bf0b",
   "metadata": {},
   "outputs": [
    {
     "name": "stdout",
     "output_type": "stream",
     "text": [
      "Classifictaion report for decision tree\n",
      "-------------------------\n",
      "              precision    recall  f1-score   support\n",
      "\n",
      "          no       0.92      0.92      0.92      7944\n",
      "         yes       0.43      0.41      0.42      1099\n",
      "\n",
      "    accuracy                           0.86      9043\n",
      "   macro avg       0.67      0.67      0.67      9043\n",
      "weighted avg       0.86      0.86      0.86      9043\n",
      "\n",
      "Classifictaion report for random forest\n",
      "-------------------------\n",
      "              precision    recall  f1-score   support\n",
      "\n",
      "          no       0.91      0.97      0.94      7944\n",
      "         yes       0.61      0.29      0.39      1099\n",
      "\n",
      "    accuracy                           0.89      9043\n",
      "   macro avg       0.76      0.63      0.67      9043\n",
      "weighted avg       0.87      0.89      0.87      9043\n",
      "\n",
      "Classifictaion report for SVC\n",
      "-------------------------\n",
      "              precision    recall  f1-score   support\n",
      "\n",
      "          no       0.90      0.99      0.94      7944\n",
      "         yes       0.63      0.18      0.29      1099\n",
      "\n",
      "    accuracy                           0.89      9043\n",
      "   macro avg       0.76      0.58      0.61      9043\n",
      "weighted avg       0.86      0.89      0.86      9043\n",
      "\n"
     ]
    }
   ],
   "source": [
    "from sklearn.metrics import classification_report\n",
    "target_names =['no', 'yes']\n",
    "print('Classifictaion report for decision tree')\n",
    "print('-------------------------')\n",
    "print(classification_report(y_test, y_pred_dt, target_names=target_names))\n",
    "print('Classifictaion report for random forest')\n",
    "print('-------------------------')\n",
    "print(classification_report(y_test, y_pred_rf, target_names=target_names))\n",
    "print('Classifictaion report for SVC')\n",
    "print('-------------------------')\n",
    "print(classification_report(y_test, y_pred_svc, target_names=target_names))"
   ]
  }
 ],
 "metadata": {
  "kernelspec": {
   "display_name": "Python 3 (ipykernel)",
   "language": "python",
   "name": "python3"
  },
  "language_info": {
   "codemirror_mode": {
    "name": "ipython",
    "version": 3
   },
   "file_extension": ".py",
   "mimetype": "text/x-python",
   "name": "python",
   "nbconvert_exporter": "python",
   "pygments_lexer": "ipython3",
   "version": "3.9.7"
  }
 },
 "nbformat": 4,
 "nbformat_minor": 5
}
